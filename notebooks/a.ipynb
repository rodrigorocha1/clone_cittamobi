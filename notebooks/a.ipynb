{
 "cells": [
  {
   "cell_type": "code",
   "execution_count": 1,
   "metadata": {
    "collapsed": true
   },
   "outputs": [
    {
     "ename": "ImportError",
     "evalue": "cannot import name 'ServiceSPTRANS' from 'services.service_sptrans' (D:\\projetos\\clone_cittamobi\\services\\service_sptrans.py)",
     "output_type": "error",
     "traceback": [
      "\u001B[1;31m---------------------------------------------------------------------------\u001B[0m",
      "\u001B[1;31mImportError\u001B[0m                               Traceback (most recent call last)",
      "\u001B[1;32m~\\AppData\\Local\\Temp\\ipykernel_14444\\2591221045.py\u001B[0m in \u001B[0;36m<module>\u001B[1;34m\u001B[0m\n\u001B[0;32m      1\u001B[0m \u001B[1;32mimport\u001B[0m \u001B[0mpandas\u001B[0m \u001B[1;32mas\u001B[0m \u001B[0mpd\u001B[0m\u001B[1;33m\u001B[0m\u001B[0m\n\u001B[1;32m----> 2\u001B[1;33m \u001B[1;32mfrom\u001B[0m \u001B[0mservices\u001B[0m\u001B[1;33m.\u001B[0m\u001B[0mservice_sptrans\u001B[0m \u001B[1;32mimport\u001B[0m \u001B[0mServiceSPTRANS\u001B[0m\u001B[1;33m\u001B[0m\u001B[0m\n\u001B[0m\u001B[0;32m      3\u001B[0m \u001B[1;32mimport\u001B[0m \u001B[0mfolium\u001B[0m\u001B[1;33m\u001B[0m\u001B[0m\n\u001B[0;32m      4\u001B[0m \u001B[1;32mfrom\u001B[0m \u001B[0mtime\u001B[0m \u001B[1;32mimport\u001B[0m \u001B[0msleep\u001B[0m\u001B[1;33m\u001B[0m\u001B[0m\n\u001B[0;32m      5\u001B[0m \u001B[1;32mfrom\u001B[0m \u001B[0mentidades\u001B[0m\u001B[1;33m.\u001B[0m\u001B[0mposicao\u001B[0m \u001B[1;32mimport\u001B[0m \u001B[0mPosicao\u001B[0m\u001B[1;33m\u001B[0m\u001B[0m\n",
      "\u001B[1;32mD:\\projetos\\clone_cittamobi\\services\\service_sptrans.py\u001B[0m in \u001B[0;36m<module>\u001B[1;34m\u001B[0m\n\u001B[1;32m----> 1\u001B[1;33m \u001B[1;32mfrom\u001B[0m \u001B[0mentidades\u001B[0m\u001B[1;33m.\u001B[0m\u001B[0mlinhas\u001B[0m \u001B[1;32mimport\u001B[0m \u001B[0mLinha\u001B[0m\u001B[1;33m\u001B[0m\u001B[0m\n\u001B[0m\u001B[0;32m      2\u001B[0m \u001B[1;32mfrom\u001B[0m \u001B[0mservices\u001B[0m\u001B[1;33m.\u001B[0m\u001B[0mservice_sptrans_api\u001B[0m \u001B[1;32mimport\u001B[0m \u001B[0mServiceSPTRANSAPI\u001B[0m\u001B[1;33m\u001B[0m\u001B[0m\n\u001B[0;32m      3\u001B[0m \u001B[1;32mfrom\u001B[0m \u001B[0mentidades\u001B[0m\u001B[1;33m.\u001B[0m\u001B[0mparada\u001B[0m \u001B[1;32mimport\u001B[0m \u001B[0mParada\u001B[0m\u001B[1;33m\u001B[0m\u001B[0m\n\u001B[0;32m      4\u001B[0m \u001B[1;32mfrom\u001B[0m \u001B[0mtyping\u001B[0m \u001B[1;32mimport\u001B[0m \u001B[0mList\u001B[0m\u001B[1;33m\u001B[0m\u001B[0m\n\u001B[0;32m      5\u001B[0m \u001B[1;32mfrom\u001B[0m \u001B[0mentidades\u001B[0m\u001B[1;33m.\u001B[0m\u001B[0monibus\u001B[0m \u001B[1;32mimport\u001B[0m \u001B[0mOnibus\u001B[0m\u001B[1;33m\u001B[0m\u001B[0m\n",
      "\u001B[1;32mD:\\projetos\\clone_cittamobi\\entidades\\linhas.py\u001B[0m in \u001B[0;36m<module>\u001B[1;34m\u001B[0m\n\u001B[0;32m      4\u001B[0m \u001B[1;32mfrom\u001B[0m \u001B[0mtyping\u001B[0m \u001B[1;32mimport\u001B[0m \u001B[0mDict\u001B[0m\u001B[1;33m\u001B[0m\u001B[0m\n\u001B[0;32m      5\u001B[0m \u001B[1;32mfrom\u001B[0m \u001B[0mentidades\u001B[0m\u001B[1;33m.\u001B[0m\u001B[0mtrajeto\u001B[0m \u001B[1;32mimport\u001B[0m \u001B[0mTrajeto\u001B[0m\u001B[1;33m\u001B[0m\u001B[0m\n\u001B[1;32m----> 6\u001B[1;33m \u001B[1;32mfrom\u001B[0m \u001B[0mservices\u001B[0m\u001B[1;33m.\u001B[0m\u001B[0mservice_sptrans\u001B[0m \u001B[1;32mimport\u001B[0m \u001B[0mServiceSPTRANS\u001B[0m\u001B[1;33m\u001B[0m\u001B[0m\n\u001B[0m\u001B[0;32m      7\u001B[0m \u001B[1;33m\u001B[0m\u001B[0m\n\u001B[0;32m      8\u001B[0m \u001B[1;33m\u001B[0m\u001B[0m\n",
      "\u001B[1;31mImportError\u001B[0m: cannot import name 'ServiceSPTRANS' from 'services.service_sptrans' (D:\\projetos\\clone_cittamobi\\services\\service_sptrans.py)"
     ]
    }
   ],
   "source": [
    "import pandas as pd\n",
    "from services.service_sptrans import ServiceSPTRANS\n",
    "import folium\n",
    "from time import sleep\n",
    "from entidades.posicao import Posicao\n",
    "from entidades.trajeto import Trajeto"
   ]
  }
 ],
 "metadata": {
  "kernelspec": {
   "display_name": "Python 3",
   "language": "python",
   "name": "python3"
  },
  "language_info": {
   "codemirror_mode": {
    "name": "ipython",
    "version": 2
   },
   "file_extension": ".py",
   "mimetype": "text/x-python",
   "name": "python",
   "nbconvert_exporter": "python",
   "pygments_lexer": "ipython2",
   "version": "2.7.6"
  }
 },
 "nbformat": 4,
 "nbformat_minor": 0
}
