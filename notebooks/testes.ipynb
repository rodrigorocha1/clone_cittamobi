{
 "cells": [
  {
   "cell_type": "code",
   "execution_count": 1,
   "metadata": {
    "collapsed": true
   },
   "outputs": [],
   "source": [
    "import pandas as pd\n",
    "from services.service_sptrans import ServiceSPTRANS\n",
    "import folium\n",
    "from entidades.onibus import Onibus"
   ]
  },
  {
   "cell_type": "code",
   "execution_count": 2,
   "outputs": [],
   "source": [
    "a = '778J'\n",
    "b = '41'"
   ],
   "metadata": {
    "collapsed": false
   }
  },
  {
   "cell_type": "code",
   "execution_count": 3,
   "outputs": [],
   "source": [
    "base = pd.read_csv('../data/raw/routes.txt', delimiter=',')"
   ],
   "metadata": {
    "collapsed": false
   }
  },
  {
   "cell_type": "markdown",
   "source": [],
   "metadata": {
    "collapsed": false
   }
  },
  {
   "cell_type": "code",
   "execution_count": 4,
   "outputs": [
    {
     "data": {
      "text/plain": "('FF671F', str)"
     },
     "execution_count": 4,
     "metadata": {},
     "output_type": "execute_result"
    }
   ],
   "source": [
    "base[base['route_id'] == a + '-' + b ]['route_color'].iloc[0], type(base[base['route_id'] == a + '-' + b ]['route_color'].iloc[0])"
   ],
   "metadata": {
    "collapsed": false
   }
  },
  {
   "cell_type": "code",
   "execution_count": 14,
   "outputs": [
    {
     "data": {
      "text/plain": "[<entidades.linhas.Linha at 0x1640ce01fd0>,\n <entidades.linhas.Linha at 0x1640ce01080>,\n <entidades.linhas.Linha at 0x1640ce01a90>,\n <entidades.linhas.Linha at 0x1640c6f37f0>]"
     },
     "execution_count": 14,
     "metadata": {},
     "output_type": "execute_result"
    }
   ],
   "source": [
    "ss = ServiceSPTRANS()\n",
    "linhas = ss.consultar_linha('8000')\n",
    "linhas"
   ],
   "metadata": {
    "collapsed": false
   }
  },
  {
   "cell_type": "code",
   "execution_count": 6,
   "outputs": [
    {
     "data": {
      "text/plain": "[<entidades.linhas.Linha at 0x1640b442a58>,\n <entidades.linhas.Linha at 0x1640bab9ba8>]"
     },
     "execution_count": 6,
     "metadata": {},
     "output_type": "execute_result"
    }
   ],
   "source": [
    "linhas"
   ],
   "metadata": {
    "collapsed": false
   }
  },
  {
   "cell_type": "code",
   "execution_count": 7,
   "outputs": [
    {
     "name": "stdout",
     "output_type": "stream",
     "text": [
      "1146\n",
      "PAULO WHITAKER B/C\n",
      "230009824\n",
      "R DOUTOR PAULO DE BARROS WHITAKER/ R DINAZAR FERRAZ DE CAMARGO\n",
      "lat -23.713286\n",
      "lon -46.698421\n",
      "=======================\n",
      "MARLY O. COBRA B/C\n",
      "230009826\n",
      "R SILVES/ R RORAIMA\n",
      "lat -23.716251\n",
      "lon -46.699069\n",
      "=======================\n",
      "JAQUIRANA B/C\n",
      "230009882\n",
      "R JAQUIRANA/ AV DO JANGADEIRO\n",
      "lat -23.705632\n",
      "lon -46.700488\n",
      "=======================\n",
      "INTERLAGOS B/C\n",
      "230009883\n",
      "AV AUTODROMO/ AV INTERLAGOS -- 27º BPM\n",
      "lat -23.701925\n",
      "lon -46.701283\n",
      "=======================\n",
      "GUAIÚBA  B/C\n",
      "230016401\n",
      "R GUAIUBA/ R JUNDIAZINHO\n",
      "lat -23.708653\n",
      "lon -46.699795\n",
      "=======================\n",
      "33914\n",
      "JANGADEIRO C/B\n",
      "230009480\n",
      "AV SENADOR TEOTONIO VILELA/ AV INTERLAGOS\n",
      "lat -23.706106\n",
      "lon -46.7011\n",
      "=======================\n",
      "CATARINO ANDERATA C/B\n",
      "230009560\n",
      "R CATARINO ANDREATTA/ AV SENADOR TEOTONIO VILELA\n",
      "lat -23.702749\n",
      "lon -46.701907\n",
      "=======================\n",
      "PARADA 2 - PE. JOSÉ GARZOTTI C/B\n",
      "230009823\n",
      "R ANIBAL DOS ANJOS CARVALHO/ R PADRE JOSE GARZOTTI\n",
      "lat -23.711261\n",
      "lon -46.699107\n",
      "=======================\n",
      "RORAIMA C/B\n",
      "230009825\n",
      "R SILVES/ R RORAIMA\n",
      "lat -23.71618\n",
      "lon -46.699274\n",
      "=======================\n"
     ]
    },
    {
     "data": {
      "text/plain": "[<entidades.parada.Parada at 0x1640bab9a20>,\n <entidades.parada.Parada at 0x1640bab98d0>,\n <entidades.parada.Parada at 0x1640b467d30>,\n <entidades.parada.Parada at 0x1640b467940>]"
     },
     "execution_count": 7,
     "metadata": {},
     "output_type": "execute_result"
    }
   ],
   "source": [
    "for linha in linhas:\n",
    "\n",
    "    lista_paradas = ss.buscar_paradas(linha.codigo_identificador)\n",
    "    print(linha.codigo_identificador)\n",
    "    for parada in lista_paradas:\n",
    "        print(parada.nome_parada)\n",
    "        print(parada.codigo_parada)\n",
    "        print(parada.endereco_localizacao)\n",
    "        print('lat', parada.posicao.latitude)\n",
    "        print('lon', parada.posicao.longitude)\n",
    "        print('=======================')\n",
    "lista_paradas"
   ],
   "metadata": {
    "collapsed": false
   }
  },
  {
   "cell_type": "markdown",
   "source": [
    "# Mapa dos pontos de ônibus"
   ],
   "metadata": {
    "collapsed": false
   }
  },
  {
   "cell_type": "code",
   "execution_count": 8,
   "outputs": [
    {
     "name": "stdout",
     "output_type": "stream",
     "text": [
      "JANGADEIRO C/B\n",
      "230009480\n",
      "AV SENADOR TEOTONIO VILELA/ AV INTERLAGOS\n",
      "lat -23.706106\n",
      "lon -46.7011\n",
      "=======================\n",
      "CATARINO ANDERATA C/B\n",
      "230009560\n",
      "R CATARINO ANDREATTA/ AV SENADOR TEOTONIO VILELA\n",
      "lat -23.702749\n",
      "lon -46.701907\n",
      "=======================\n",
      "PARADA 2 - PE. JOSÉ GARZOTTI C/B\n",
      "230009823\n",
      "R ANIBAL DOS ANJOS CARVALHO/ R PADRE JOSE GARZOTTI\n",
      "lat -23.711261\n",
      "lon -46.699107\n",
      "=======================\n",
      "RORAIMA C/B\n",
      "230009825\n",
      "R SILVES/ R RORAIMA\n",
      "lat -23.71618\n",
      "lon -46.699274\n",
      "=======================\n"
     ]
    }
   ],
   "source": [
    "for parada in lista_paradas:\n",
    "    print(parada.nome_parada)\n",
    "    print(parada.codigo_parada)\n",
    "    print(parada.endereco_localizacao)\n",
    "    print('lat', parada.posicao.latitude)\n",
    "    print('lon', parada.posicao.longitude)\n",
    "    print('=======================')"
   ],
   "metadata": {
    "collapsed": false
   }
  },
  {
   "cell_type": "code",
   "execution_count": 39,
   "outputs": [
    {
     "name": "stdout",
     "output_type": "stream",
     "text": [
      "35274\n",
      "12599\n",
      "True\n",
      "-23.522750124999998\n",
      "-46.6915385625\n",
      "================================\n",
      "35274\n",
      "12678\n",
      "True\n",
      "-23.527727249999998\n",
      "-46.671215\n",
      "================================\n",
      "35274\n",
      "12681\n",
      "True\n",
      "-23.541999750000002\n",
      "-46.640972250000004\n",
      "================================\n",
      "35274\n",
      "12611\n",
      "True\n",
      "-23.520411\n",
      "-46.6997085\n",
      "================================\n",
      "1273\n",
      "11525\n",
      "True\n",
      "-23.531838\n",
      "-46.6641255\n",
      "================================\n"
     ]
    }
   ],
   "source": [
    "for linha in linhas:\n",
    "    lista_posicoes_veiculos = ss.buscar_posicoes_veiculos(linha.codigo_identificador)\n",
    "    for posicao_veiculo in lista_posicoes_veiculos:\n",
    "        print(linha.codigo_identificador)\n",
    "        print(posicao_veiculo.prefixo)\n",
    "        print(posicao_veiculo.acessibiliade)\n",
    "        print(posicao_veiculo.posicao.latitude)\n",
    "        print(posicao_veiculo.posicao.longitude)\n",
    "        print('================================')\n"
   ],
   "metadata": {
    "collapsed": false
   }
  },
  {
   "cell_type": "code",
   "execution_count": 38,
   "outputs": [
    {
     "data": {
      "text/plain": "<folium.folium.Map at 0x1640d674978>",
      "text/html": "<div style=\"width:100%;\"><div style=\"position:relative;width:100%;height:0;padding-bottom:60%;\"><span style=\"color:#565656\">Make this Notebook Trusted to load map: File -> Trust Notebook</span><iframe srcdoc=\"&lt;!DOCTYPE html&gt;\n&lt;html&gt;\n&lt;head&gt;\n    \n    &lt;meta http-equiv=&quot;content-type&quot; content=&quot;text/html; charset=UTF-8&quot; /&gt;\n    \n        &lt;script&gt;\n            L_NO_TOUCH = false;\n            L_DISABLE_3D = false;\n        &lt;/script&gt;\n    \n    &lt;style&gt;html, body {width: 100%;height: 100%;margin: 0;padding: 0;}&lt;/style&gt;\n    &lt;style&gt;#map {position:absolute;top:0;bottom:0;right:0;left:0;}&lt;/style&gt;\n    &lt;script src=&quot;https://cdn.jsdelivr.net/npm/leaflet@1.9.3/dist/leaflet.js&quot;&gt;&lt;/script&gt;\n    &lt;script src=&quot;https://code.jquery.com/jquery-1.12.4.min.js&quot;&gt;&lt;/script&gt;\n    &lt;script src=&quot;https://cdn.jsdelivr.net/npm/bootstrap@5.2.2/dist/js/bootstrap.bundle.min.js&quot;&gt;&lt;/script&gt;\n    &lt;script src=&quot;https://cdnjs.cloudflare.com/ajax/libs/Leaflet.awesome-markers/2.0.2/leaflet.awesome-markers.js&quot;&gt;&lt;/script&gt;\n    &lt;link rel=&quot;stylesheet&quot; href=&quot;https://cdn.jsdelivr.net/npm/leaflet@1.9.3/dist/leaflet.css&quot;/&gt;\n    &lt;link rel=&quot;stylesheet&quot; href=&quot;https://cdn.jsdelivr.net/npm/bootstrap@5.2.2/dist/css/bootstrap.min.css&quot;/&gt;\n    &lt;link rel=&quot;stylesheet&quot; href=&quot;https://netdna.bootstrapcdn.com/bootstrap/3.0.0/css/bootstrap.min.css&quot;/&gt;\n    &lt;link rel=&quot;stylesheet&quot; href=&quot;https://cdn.jsdelivr.net/npm/@fortawesome/fontawesome-free@6.2.0/css/all.min.css&quot;/&gt;\n    &lt;link rel=&quot;stylesheet&quot; href=&quot;https://cdnjs.cloudflare.com/ajax/libs/Leaflet.awesome-markers/2.0.2/leaflet.awesome-markers.css&quot;/&gt;\n    &lt;link rel=&quot;stylesheet&quot; href=&quot;https://cdn.jsdelivr.net/gh/python-visualization/folium/folium/templates/leaflet.awesome.rotate.min.css&quot;/&gt;\n    \n            &lt;meta name=&quot;viewport&quot; content=&quot;width=device-width,\n                initial-scale=1.0, maximum-scale=1.0, user-scalable=no&quot; /&gt;\n            &lt;style&gt;\n                #map_087ea461ad9d1b3e949ff3050452f5c4 {\n                    position: relative;\n                    width: 100.0%;\n                    height: 100.0%;\n                    left: 0.0%;\n                    top: 0.0%;\n                }\n                .leaflet-container { font-size: 1rem; }\n            &lt;/style&gt;\n        \n&lt;/head&gt;\n&lt;body&gt;\n    \n    \n            &lt;div class=&quot;folium-map&quot; id=&quot;map_087ea461ad9d1b3e949ff3050452f5c4&quot; &gt;&lt;/div&gt;\n        \n&lt;/body&gt;\n&lt;script&gt;\n    \n    \n            var map_087ea461ad9d1b3e949ff3050452f5c4 = L.map(\n                &quot;map_087ea461ad9d1b3e949ff3050452f5c4&quot;,\n                {\n                    center: [-23.536498, -46.650579],\n                    crs: L.CRS.EPSG3857,\n                    zoom: 12,\n                    zoomControl: true,\n                    preferCanvas: false,\n                }\n            );\n\n            \n\n        \n    \n            var tile_layer_fc253260b72d62a499b61889a823ea4d = L.tileLayer(\n                &quot;https://{s}.tile.openstreetmap.org/{z}/{x}/{y}.png&quot;,\n                {&quot;attribution&quot;: &quot;Data by \\u0026copy; \\u003ca target=\\&quot;_blank\\&quot; href=\\&quot;http://openstreetmap.org\\&quot;\\u003eOpenStreetMap\\u003c/a\\u003e, under \\u003ca target=\\&quot;_blank\\&quot; href=\\&quot;http://www.openstreetmap.org/copyright\\&quot;\\u003eODbL\\u003c/a\\u003e.&quot;, &quot;detectRetina&quot;: false, &quot;maxNativeZoom&quot;: 18, &quot;maxZoom&quot;: 18, &quot;minZoom&quot;: 0, &quot;noWrap&quot;: false, &quot;opacity&quot;: 1, &quot;subdomains&quot;: &quot;abc&quot;, &quot;tms&quot;: false}\n            ).addTo(map_087ea461ad9d1b3e949ff3050452f5c4);\n        \n    \n            var marker_d3ef737bdb47b2dde45e5670d7960d23 = L.marker(\n                [-23.534564, -46.654302],\n                {}\n            ).addTo(map_087ea461ad9d1b3e949ff3050452f5c4);\n        \n    \n        var popup_6c0331f40636e8e61e850c2992f3f05f = L.popup({&quot;maxWidth&quot;: &quot;100%&quot;});\n\n        \n            \n                var html_3f044eb3c180ac6eb139aabb8b3b5c96 = $(`&lt;div id=&quot;html_3f044eb3c180ac6eb139aabb8b3b5c96&quot; style=&quot;width: 100.0%; height: 100.0%;&quot;&gt;2506 7014417&lt;/div&gt;`)[0];\n                popup_6c0331f40636e8e61e850c2992f3f05f.setContent(html_3f044eb3c180ac6eb139aabb8b3b5c96);\n            \n        \n\n        marker_d3ef737bdb47b2dde45e5670d7960d23.bindPopup(popup_6c0331f40636e8e61e850c2992f3f05f)\n        ;\n\n        \n    \n    \n            var marker_0d84408051161f81496308d4d0e8b948 = L.marker(\n                [-23.525799, -46.679251],\n                {}\n            ).addTo(map_087ea461ad9d1b3e949ff3050452f5c4);\n        \n    \n        var popup_c780e7bb73146da2d5462b17146e557f = L.popup({&quot;maxWidth&quot;: &quot;100%&quot;});\n\n        \n            \n                var html_3c2fa880e777563b370dde307721ede8 = $(`&lt;div id=&quot;html_3c2fa880e777563b370dde307721ede8&quot; style=&quot;width: 100.0%; height: 100.0%;&quot;&gt;2506 60016784&lt;/div&gt;`)[0];\n                popup_c780e7bb73146da2d5462b17146e557f.setContent(html_3c2fa880e777563b370dde307721ede8);\n            \n        \n\n        marker_0d84408051161f81496308d4d0e8b948.bindPopup(popup_c780e7bb73146da2d5462b17146e557f)\n        ;\n\n        \n    \n    \n            var marker_48c395ee40be2ee3ebd8b84377c3d86a = L.marker(\n                [-23.526523, -46.673588],\n                {}\n            ).addTo(map_087ea461ad9d1b3e949ff3050452f5c4);\n        \n    \n        var popup_efc99051efe11e5656e710c9fb510dee = L.popup({&quot;maxWidth&quot;: &quot;100%&quot;});\n\n        \n            \n                var html_78957ecadb3556304d6f9c36a6291f6d = $(`&lt;div id=&quot;html_78957ecadb3556304d6f9c36a6291f6d&quot; style=&quot;width: 100.0%; height: 100.0%;&quot;&gt;2506 60016786&lt;/div&gt;`)[0];\n                popup_efc99051efe11e5656e710c9fb510dee.setContent(html_78957ecadb3556304d6f9c36a6291f6d);\n            \n        \n\n        marker_48c395ee40be2ee3ebd8b84377c3d86a.bindPopup(popup_efc99051efe11e5656e710c9fb510dee)\n        ;\n\n        \n    \n    \n            var marker_96dbd4b8471c57312315cdb7ed773018 = L.marker(\n                [-23.528131, -46.670652],\n                {}\n            ).addTo(map_087ea461ad9d1b3e949ff3050452f5c4);\n        \n    \n        var popup_108d513f7396b33b65273b395406e9ef = L.popup({&quot;maxWidth&quot;: &quot;100%&quot;});\n\n        \n            \n                var html_834df59270dc25929d71c82b003337ef = $(`&lt;div id=&quot;html_834df59270dc25929d71c82b003337ef&quot; style=&quot;width: 100.0%; height: 100.0%;&quot;&gt;2506 60016788&lt;/div&gt;`)[0];\n                popup_108d513f7396b33b65273b395406e9ef.setContent(html_834df59270dc25929d71c82b003337ef);\n            \n        \n\n        marker_96dbd4b8471c57312315cdb7ed773018.bindPopup(popup_108d513f7396b33b65273b395406e9ef)\n        ;\n\n        \n    \n    \n            var marker_5f1e7324608c8790d299f668038b7f27 = L.marker(\n                [-23.53021, -46.6669],\n                {}\n            ).addTo(map_087ea461ad9d1b3e949ff3050452f5c4);\n        \n    \n        var popup_3bc8648b06d27042c11dcf477e5256d0 = L.popup({&quot;maxWidth&quot;: &quot;100%&quot;});\n\n        \n            \n                var html_b1c14f3abd0d24e695557d33346dcbe1 = $(`&lt;div id=&quot;html_b1c14f3abd0d24e695557d33346dcbe1&quot; style=&quot;width: 100.0%; height: 100.0%;&quot;&gt;2506 60016790&lt;/div&gt;`)[0];\n                popup_3bc8648b06d27042c11dcf477e5256d0.setContent(html_b1c14f3abd0d24e695557d33346dcbe1);\n            \n        \n\n        marker_5f1e7324608c8790d299f668038b7f27.bindPopup(popup_3bc8648b06d27042c11dcf477e5256d0)\n        ;\n\n        \n    \n    \n            var marker_af2d6caa758d6a028e92898dfc232969 = L.marker(\n                [-23.52494, -46.698995],\n                {}\n            ).addTo(map_087ea461ad9d1b3e949ff3050452f5c4);\n        \n    \n        var popup_9ba79f9a015551358159aac15f9b15fe = L.popup({&quot;maxWidth&quot;: &quot;100%&quot;});\n\n        \n            \n                var html_3f646dfc756aea2087d17ee3ce22ac0e = $(`&lt;div id=&quot;html_3f646dfc756aea2087d17ee3ce22ac0e&quot; style=&quot;width: 100.0%; height: 100.0%;&quot;&gt;2506 480014612&lt;/div&gt;`)[0];\n                popup_9ba79f9a015551358159aac15f9b15fe.setContent(html_3f646dfc756aea2087d17ee3ce22ac0e);\n            \n        \n\n        marker_af2d6caa758d6a028e92898dfc232969.bindPopup(popup_9ba79f9a015551358159aac15f9b15fe)\n        ;\n\n        \n    \n    \n            var marker_7627c43e47e07353a02e7dbfbdee6073 = L.marker(\n                [-23.524994, -46.695297],\n                {}\n            ).addTo(map_087ea461ad9d1b3e949ff3050452f5c4);\n        \n    \n        var popup_cfb324c10b4e6cf9976ce4e329f3301a = L.popup({&quot;maxWidth&quot;: &quot;100%&quot;});\n\n        \n            \n                var html_adfa8827dceee4a16700a20e4ca5c6af = $(`&lt;div id=&quot;html_adfa8827dceee4a16700a20e4ca5c6af&quot; style=&quot;width: 100.0%; height: 100.0%;&quot;&gt;2506 480014613&lt;/div&gt;`)[0];\n                popup_cfb324c10b4e6cf9976ce4e329f3301a.setContent(html_adfa8827dceee4a16700a20e4ca5c6af);\n            \n        \n\n        marker_7627c43e47e07353a02e7dbfbdee6073.bindPopup(popup_cfb324c10b4e6cf9976ce4e329f3301a)\n        ;\n\n        \n    \n    \n            var marker_1c816c96aa79a5789a4c14ddb5324955 = L.marker(\n                [-23.525029, -46.690074],\n                {}\n            ).addTo(map_087ea461ad9d1b3e949ff3050452f5c4);\n        \n    \n        var popup_1d7d552d72e7c05f61e8726a08b663b0 = L.popup({&quot;maxWidth&quot;: &quot;100%&quot;});\n\n        \n            \n                var html_78339845e83342e5bdd8b52f6169f735 = $(`&lt;div id=&quot;html_78339845e83342e5bdd8b52f6169f735&quot; style=&quot;width: 100.0%; height: 100.0%;&quot;&gt;2506 480014614&lt;/div&gt;`)[0];\n                popup_1d7d552d72e7c05f61e8726a08b663b0.setContent(html_78339845e83342e5bdd8b52f6169f735);\n            \n        \n\n        marker_1c816c96aa79a5789a4c14ddb5324955.bindPopup(popup_1d7d552d72e7c05f61e8726a08b663b0)\n        ;\n\n        \n    \n    \n            var marker_ee9aa9ef1407197b259e644e7544f809 = L.marker(\n                [-23.523409, -46.700503],\n                {}\n            ).addTo(map_087ea461ad9d1b3e949ff3050452f5c4);\n        \n    \n        var popup_f8496319ebbc26ad36a22e3d51db7508 = L.popup({&quot;maxWidth&quot;: &quot;100%&quot;});\n\n        \n            \n                var html_fcf5ede5f8925ed7aa0b3d3d2282ca08 = $(`&lt;div id=&quot;html_fcf5ede5f8925ed7aa0b3d3d2282ca08&quot; style=&quot;width: 100.0%; height: 100.0%;&quot;&gt;2506 480014961&lt;/div&gt;`)[0];\n                popup_f8496319ebbc26ad36a22e3d51db7508.setContent(html_fcf5ede5f8925ed7aa0b3d3d2282ca08);\n            \n        \n\n        marker_ee9aa9ef1407197b259e644e7544f809.bindPopup(popup_f8496319ebbc26ad36a22e3d51db7508)\n        ;\n\n        \n    \n    \n            var marker_41fb2e12ae0e03c64198d6525335a195 = L.marker(\n                [-23.52517, -46.683408],\n                {}\n            ).addTo(map_087ea461ad9d1b3e949ff3050452f5c4);\n        \n    \n        var popup_478e79177024c0e888765164043dcadb = L.popup({&quot;maxWidth&quot;: &quot;100%&quot;});\n\n        \n            \n                var html_9180e5b49a879b312f7ef66fada43672 = $(`&lt;div id=&quot;html_9180e5b49a879b312f7ef66fada43672&quot; style=&quot;width: 100.0%; height: 100.0%;&quot;&gt;2506 610014603&lt;/div&gt;`)[0];\n                popup_478e79177024c0e888765164043dcadb.setContent(html_9180e5b49a879b312f7ef66fada43672);\n            \n        \n\n        marker_41fb2e12ae0e03c64198d6525335a195.bindPopup(popup_478e79177024c0e888765164043dcadb)\n        ;\n\n        \n    \n    \n            var marker_380b7d1b8559199faa6ceeb87e9616a5 = L.marker(\n                [-23.540545, -46.643624],\n                {}\n            ).addTo(map_087ea461ad9d1b3e949ff3050452f5c4);\n        \n    \n        var popup_416f5d5caed28cd903b294b39f50f5ad = L.popup({&quot;maxWidth&quot;: &quot;100%&quot;});\n\n        \n            \n                var html_32dab3b5c8cda4e831b763f0425dbd8d = $(`&lt;div id=&quot;html_32dab3b5c8cda4e831b763f0425dbd8d&quot; style=&quot;width: 100.0%; height: 100.0%;&quot;&gt;2506 670010530&lt;/div&gt;`)[0];\n                popup_416f5d5caed28cd903b294b39f50f5ad.setContent(html_32dab3b5c8cda4e831b763f0425dbd8d);\n            \n        \n\n        marker_380b7d1b8559199faa6ceeb87e9616a5.bindPopup(popup_416f5d5caed28cd903b294b39f50f5ad)\n        ;\n\n        \n    \n    \n            var marker_6cc6188e67e13935157c582e93c0d719 = L.marker(\n                [-23.532847, -46.657404],\n                {}\n            ).addTo(map_087ea461ad9d1b3e949ff3050452f5c4);\n        \n    \n        var popup_d051a98c99930d0931fec7ecad018596 = L.popup({&quot;maxWidth&quot;: &quot;100%&quot;});\n\n        \n            \n                var html_684e7f74d687e7635837ef8a1b3ddac6 = $(`&lt;div id=&quot;html_684e7f74d687e7635837ef8a1b3ddac6&quot; style=&quot;width: 100.0%; height: 100.0%;&quot;&gt;2506 700006086&lt;/div&gt;`)[0];\n                popup_d051a98c99930d0931fec7ecad018596.setContent(html_684e7f74d687e7635837ef8a1b3ddac6);\n            \n        \n\n        marker_6cc6188e67e13935157c582e93c0d719.bindPopup(popup_d051a98c99930d0931fec7ecad018596)\n        ;\n\n        \n    \n    \n            var marker_dcf8eb8e4030df9f18c2fb453b9d1c43 = L.marker(\n                [-23.538708, -46.646888],\n                {}\n            ).addTo(map_087ea461ad9d1b3e949ff3050452f5c4);\n        \n    \n        var popup_fb6899cf21061d19c5659cdded5776c3 = L.popup({&quot;maxWidth&quot;: &quot;100%&quot;});\n\n        \n            \n                var html_98f818d13940d725ade734cb865292bf = $(`&lt;div id=&quot;html_98f818d13940d725ade734cb865292bf&quot; style=&quot;width: 100.0%; height: 100.0%;&quot;&gt;2506 700016623&lt;/div&gt;`)[0];\n                popup_fb6899cf21061d19c5659cdded5776c3.setContent(html_98f818d13940d725ade734cb865292bf);\n            \n        \n\n        marker_dcf8eb8e4030df9f18c2fb453b9d1c43.bindPopup(popup_fb6899cf21061d19c5659cdded5776c3)\n        ;\n\n        \n    \n    \n            var marker_7dd5a66d6a51bddd54e646a5698ed5b7 = L.marker(\n                [-23.532068, -46.660957],\n                {}\n            ).addTo(map_087ea461ad9d1b3e949ff3050452f5c4);\n        \n    \n        var popup_50178f87d7b24133032ed7c711b43c7b = L.popup({&quot;maxWidth&quot;: &quot;100%&quot;});\n\n        \n            \n                var html_33c82b1526501ade290a237f43ac78d3 = $(`&lt;div id=&quot;html_33c82b1526501ade290a237f43ac78d3&quot; style=&quot;width: 100.0%; height: 100.0%;&quot;&gt;2506 700016791&lt;/div&gt;`)[0];\n                popup_50178f87d7b24133032ed7c711b43c7b.setContent(html_33c82b1526501ade290a237f43ac78d3);\n            \n        \n\n        marker_7dd5a66d6a51bddd54e646a5698ed5b7.bindPopup(popup_50178f87d7b24133032ed7c711b43c7b)\n        ;\n\n        \n    \n    \n            var marker_9ebd73687c6009de12944b1b9fa03178 = L.marker(\n                [-23.536318, -46.651201],\n                {}\n            ).addTo(map_087ea461ad9d1b3e949ff3050452f5c4);\n        \n    \n        var popup_9ee4c3d73f5397d3f9629bb9bdd17994 = L.popup({&quot;maxWidth&quot;: &quot;100%&quot;});\n\n        \n            \n                var html_2b636894ee3c6b593b7a5870c4c8cd06 = $(`&lt;div id=&quot;html_2b636894ee3c6b593b7a5870c4c8cd06&quot; style=&quot;width: 100.0%; height: 100.0%;&quot;&gt;2506 700016866&lt;/div&gt;`)[0];\n                popup_9ee4c3d73f5397d3f9629bb9bdd17994.setContent(html_2b636894ee3c6b593b7a5870c4c8cd06);\n            \n        \n\n        marker_9ebd73687c6009de12944b1b9fa03178.bindPopup(popup_9ee4c3d73f5397d3f9629bb9bdd17994)\n        ;\n\n        \n    \n    \n            var marker_20521d4c7dc09dec5b33895909b0bcf8 = L.marker(\n                [-23.527608, -46.671511],\n                {}\n            ).addTo(map_087ea461ad9d1b3e949ff3050452f5c4);\n        \n    \n        var popup_e3594f70763750627b1a2856e818bfad = L.popup({&quot;maxWidth&quot;: &quot;100%&quot;});\n\n        \n            \n                var html_787ed229dedffef11740dc47e75e3349 = $(`&lt;div id=&quot;html_787ed229dedffef11740dc47e75e3349&quot; style=&quot;width: 100.0%; height: 100.0%;&quot;&gt;35274 614432&lt;/div&gt;`)[0];\n                popup_e3594f70763750627b1a2856e818bfad.setContent(html_787ed229dedffef11740dc47e75e3349);\n            \n        \n\n        marker_20521d4c7dc09dec5b33895909b0bcf8.bindPopup(popup_e3594f70763750627b1a2856e818bfad)\n        ;\n\n        \n    \n    \n            var marker_957ec24df0ace7f9955fb05d780cdd6c = L.marker(\n                [-23.534377, -46.654322],\n                {}\n            ).addTo(map_087ea461ad9d1b3e949ff3050452f5c4);\n        \n    \n        var popup_677bf42e0bb5afffd92b82fcdbeff355 = L.popup({&quot;maxWidth&quot;: &quot;100%&quot;});\n\n        \n            \n                var html_64ef4ec489f8315b6496a9a7ceb412be = $(`&lt;div id=&quot;html_64ef4ec489f8315b6496a9a7ceb412be&quot; style=&quot;width: 100.0%; height: 100.0%;&quot;&gt;35274 7014416&lt;/div&gt;`)[0];\n                popup_677bf42e0bb5afffd92b82fcdbeff355.setContent(html_64ef4ec489f8315b6496a9a7ceb412be);\n            \n        \n\n        marker_957ec24df0ace7f9955fb05d780cdd6c.bindPopup(popup_677bf42e0bb5afffd92b82fcdbeff355)\n        ;\n\n        \n    \n    \n            var marker_b31f561945bac30ed1f15d89ade4c046 = L.marker(\n                [-23.525262, -46.682254],\n                {}\n            ).addTo(map_087ea461ad9d1b3e949ff3050452f5c4);\n        \n    \n        var popup_b30725207c7c06d990748799fcf97fcf = L.popup({&quot;maxWidth&quot;: &quot;100%&quot;});\n\n        \n            \n                var html_1fe984d4688ff564e5534533fe8dab5e = $(`&lt;div id=&quot;html_1fe984d4688ff564e5534533fe8dab5e&quot; style=&quot;width: 100.0%; height: 100.0%;&quot;&gt;35274 60014604&lt;/div&gt;`)[0];\n                popup_b30725207c7c06d990748799fcf97fcf.setContent(html_1fe984d4688ff564e5534533fe8dab5e);\n            \n        \n\n        marker_b31f561945bac30ed1f15d89ade4c046.bindPopup(popup_b30725207c7c06d990748799fcf97fcf)\n        ;\n\n        \n    \n    \n            var marker_d4bdcd8be865c7780390991a5ac320f8 = L.marker(\n                [-23.525653, -46.679493],\n                {}\n            ).addTo(map_087ea461ad9d1b3e949ff3050452f5c4);\n        \n    \n        var popup_036b738da21e6934cc8f69029b2bdd6e = L.popup({&quot;maxWidth&quot;: &quot;100%&quot;});\n\n        \n            \n                var html_cb4564a99b6f9327b23013c192573083 = $(`&lt;div id=&quot;html_cb4564a99b6f9327b23013c192573083&quot; style=&quot;width: 100.0%; height: 100.0%;&quot;&gt;35274 60016783&lt;/div&gt;`)[0];\n                popup_036b738da21e6934cc8f69029b2bdd6e.setContent(html_cb4564a99b6f9327b23013c192573083);\n            \n        \n\n        marker_d4bdcd8be865c7780390991a5ac320f8.bindPopup(popup_036b738da21e6934cc8f69029b2bdd6e)\n        ;\n\n        \n    \n    \n            var marker_3cd96552886441670f47922544306b03 = L.marker(\n                [-23.52622, -46.674187],\n                {}\n            ).addTo(map_087ea461ad9d1b3e949ff3050452f5c4);\n        \n    \n        var popup_cfefff3d986701623e8cedf434df72f8 = L.popup({&quot;maxWidth&quot;: &quot;100%&quot;});\n\n        \n            \n                var html_b62637b0b57ecbaaf6b9df2e0d9601ef = $(`&lt;div id=&quot;html_b62637b0b57ecbaaf6b9df2e0d9601ef&quot; style=&quot;width: 100.0%; height: 100.0%;&quot;&gt;35274 60016785&lt;/div&gt;`)[0];\n                popup_cfefff3d986701623e8cedf434df72f8.setContent(html_b62637b0b57ecbaaf6b9df2e0d9601ef);\n            \n        \n\n        marker_3cd96552886441670f47922544306b03.bindPopup(popup_cfefff3d986701623e8cedf434df72f8)\n        ;\n\n        \n    \n    \n            var marker_635047b151b5321473f75eb014cd5437 = L.marker(\n                [-23.529636, -46.667777],\n                {}\n            ).addTo(map_087ea461ad9d1b3e949ff3050452f5c4);\n        \n    \n        var popup_8e9825f1ecd8453bb473e9cdc375df1e = L.popup({&quot;maxWidth&quot;: &quot;100%&quot;});\n\n        \n            \n                var html_a1da6eb3181aba47ad12f08307cdcd4b = $(`&lt;div id=&quot;html_a1da6eb3181aba47ad12f08307cdcd4b&quot; style=&quot;width: 100.0%; height: 100.0%;&quot;&gt;35274 60016789&lt;/div&gt;`)[0];\n                popup_8e9825f1ecd8453bb473e9cdc375df1e.setContent(html_a1da6eb3181aba47ad12f08307cdcd4b);\n            \n        \n\n        marker_635047b151b5321473f75eb014cd5437.bindPopup(popup_8e9825f1ecd8453bb473e9cdc375df1e)\n        ;\n\n        \n    \n    \n            var marker_3dec67a8ed68cfd6e0fbbaae991e5dfb = L.marker(\n                [-23.522875, -46.688219],\n                {}\n            ).addTo(map_087ea461ad9d1b3e949ff3050452f5c4);\n        \n    \n        var popup_b863007a86655578f43d124a9d6596ef = L.popup({&quot;maxWidth&quot;: &quot;100%&quot;});\n\n        \n            \n                var html_88ad2b63f065fdd56bb1635d7eafea29 = $(`&lt;div id=&quot;html_88ad2b63f065fdd56bb1635d7eafea29&quot; style=&quot;width: 100.0%; height: 100.0%;&quot;&gt;35274 480014608&lt;/div&gt;`)[0];\n                popup_b863007a86655578f43d124a9d6596ef.setContent(html_88ad2b63f065fdd56bb1635d7eafea29);\n            \n        \n\n        marker_3dec67a8ed68cfd6e0fbbaae991e5dfb.bindPopup(popup_b863007a86655578f43d124a9d6596ef)\n        ;\n\n        \n    \n    \n            var marker_d3392ec94f7251eed9c001b4494f8d1a = L.marker(\n                [-23.522627, -46.692121],\n                {}\n            ).addTo(map_087ea461ad9d1b3e949ff3050452f5c4);\n        \n    \n        var popup_ac4885b4545274ea32956c55d2d67921 = L.popup({&quot;maxWidth&quot;: &quot;100%&quot;});\n\n        \n            \n                var html_e4ad6d55a05cc08b132c129262cdb500 = $(`&lt;div id=&quot;html_e4ad6d55a05cc08b132c129262cdb500&quot; style=&quot;width: 100.0%; height: 100.0%;&quot;&gt;35274 480014609&lt;/div&gt;`)[0];\n                popup_ac4885b4545274ea32956c55d2d67921.setContent(html_e4ad6d55a05cc08b132c129262cdb500);\n            \n        \n\n        marker_d3392ec94f7251eed9c001b4494f8d1a.bindPopup(popup_ac4885b4545274ea32956c55d2d67921)\n        ;\n\n        \n    \n    \n            var marker_f5afaabec27e81ab4a3ed20f7e9f3828 = L.marker(\n                [-23.522339, -46.696246],\n                {}\n            ).addTo(map_087ea461ad9d1b3e949ff3050452f5c4);\n        \n    \n        var popup_2ca32e358339463b0030aa038de2cbbf = L.popup({&quot;maxWidth&quot;: &quot;100%&quot;});\n\n        \n            \n                var html_5e08555f8741726b79126323a45ebdaa = $(`&lt;div id=&quot;html_5e08555f8741726b79126323a45ebdaa&quot; style=&quot;width: 100.0%; height: 100.0%;&quot;&gt;35274 480014610&lt;/div&gt;`)[0];\n                popup_2ca32e358339463b0030aa038de2cbbf.setContent(html_5e08555f8741726b79126323a45ebdaa);\n            \n        \n\n        marker_f5afaabec27e81ab4a3ed20f7e9f3828.bindPopup(popup_2ca32e358339463b0030aa038de2cbbf)\n        ;\n\n        \n    \n    \n            var marker_06bf248ca4f702a2e928369018cfdf8e = L.marker(\n                [-23.532629, -46.657465],\n                {}\n            ).addTo(map_087ea461ad9d1b3e949ff3050452f5c4);\n        \n    \n        var popup_0447ef14c9a82f6f4662ce5fc7292225 = L.popup({&quot;maxWidth&quot;: &quot;100%&quot;});\n\n        \n            \n                var html_6f02a4b44110d9ca03b3a712af07b016 = $(`&lt;div id=&quot;html_6f02a4b44110d9ca03b3a712af07b016&quot; style=&quot;width: 100.0%; height: 100.0%;&quot;&gt;35274 700006085&lt;/div&gt;`)[0];\n                popup_0447ef14c9a82f6f4662ce5fc7292225.setContent(html_6f02a4b44110d9ca03b3a712af07b016);\n            \n        \n\n        marker_06bf248ca4f702a2e928369018cfdf8e.bindPopup(popup_0447ef14c9a82f6f4662ce5fc7292225)\n        ;\n\n        \n    \n    \n            var marker_3afb0969bcff98cd219c68263c874d91 = L.marker(\n                [-23.538357, -46.64733],\n                {}\n            ).addTo(map_087ea461ad9d1b3e949ff3050452f5c4);\n        \n    \n        var popup_aa17810d31f57bb38d804003e09d2cdb = L.popup({&quot;maxWidth&quot;: &quot;100%&quot;});\n\n        \n            \n                var html_eaf16c4ff95bdf83ca7c68d27b2f2aa8 = $(`&lt;div id=&quot;html_eaf16c4ff95bdf83ca7c68d27b2f2aa8&quot; style=&quot;width: 100.0%; height: 100.0%;&quot;&gt;35274 700016624&lt;/div&gt;`)[0];\n                popup_aa17810d31f57bb38d804003e09d2cdb.setContent(html_eaf16c4ff95bdf83ca7c68d27b2f2aa8);\n            \n        \n\n        marker_3afb0969bcff98cd219c68263c874d91.bindPopup(popup_aa17810d31f57bb38d804003e09d2cdb)\n        ;\n\n        \n    \n    \n            var marker_2ac608b298cc8ed9b0ff2cdcccfd9bba = L.marker(\n                [-23.531864, -46.660859],\n                {}\n            ).addTo(map_087ea461ad9d1b3e949ff3050452f5c4);\n        \n    \n        var popup_52f84cf1ce6dddf5844446216213da35 = L.popup({&quot;maxWidth&quot;: &quot;100%&quot;});\n\n        \n            \n                var html_a9b25e8519ac2469648a1449fa99416c = $(`&lt;div id=&quot;html_a9b25e8519ac2469648a1449fa99416c&quot; style=&quot;width: 100.0%; height: 100.0%;&quot;&gt;35274 700016792&lt;/div&gt;`)[0];\n                popup_52f84cf1ce6dddf5844446216213da35.setContent(html_a9b25e8519ac2469648a1449fa99416c);\n            \n        \n\n        marker_2ac608b298cc8ed9b0ff2cdcccfd9bba.bindPopup(popup_52f84cf1ce6dddf5844446216213da35)\n        ;\n\n        \n    \n    \n            var marker_028930e163a5499252e7bccc08cbc247 = L.marker(\n                [-23.536498, -46.650579],\n                {}\n            ).addTo(map_087ea461ad9d1b3e949ff3050452f5c4);\n        \n    \n        var popup_0429e49e66bb79d20e251bf71de364b6 = L.popup({&quot;maxWidth&quot;: &quot;100%&quot;});\n\n        \n            \n                var html_c38d4cab17681ddb0a340bc4545ed369 = $(`&lt;div id=&quot;html_c38d4cab17681ddb0a340bc4545ed369&quot; style=&quot;width: 100.0%; height: 100.0%;&quot;&gt;35274 700016865&lt;/div&gt;`)[0];\n                popup_0429e49e66bb79d20e251bf71de364b6.setContent(html_c38d4cab17681ddb0a340bc4545ed369);\n            \n        \n\n        marker_028930e163a5499252e7bccc08cbc247.bindPopup(popup_0429e49e66bb79d20e251bf71de364b6)\n        ;\n\n        \n    \n    \n            var marker_c0eb7a02ede7739fca0120d7230cdfa1 = L.marker(\n                [-23.522750124999998, -46.6915385625],\n                {}\n            ).addTo(map_087ea461ad9d1b3e949ff3050452f5c4);\n        \n    \n        var popup_f617c1eacbaf366369f65c8fe190f588 = L.popup({&quot;maxWidth&quot;: &quot;100%&quot;});\n\n        \n            \n                var html_0782444e827fb68d79888a1444c2073c = $(`&lt;div id=&quot;html_0782444e827fb68d79888a1444c2073c&quot; style=&quot;width: 100.0%; height: 100.0%;&quot;&gt;12599&lt;/div&gt;`)[0];\n                popup_f617c1eacbaf366369f65c8fe190f588.setContent(html_0782444e827fb68d79888a1444c2073c);\n            \n        \n\n        marker_c0eb7a02ede7739fca0120d7230cdfa1.bindPopup(popup_f617c1eacbaf366369f65c8fe190f588)\n        ;\n\n        \n    \n    \n            var marker_5b3b926f6f6db158f42554eb1f2c8bff = L.marker(\n                [-23.527727249999998, -46.671215],\n                {}\n            ).addTo(map_087ea461ad9d1b3e949ff3050452f5c4);\n        \n    \n        var popup_84a327282aac076ed8badc623a8441da = L.popup({&quot;maxWidth&quot;: &quot;100%&quot;});\n\n        \n            \n                var html_6523ac1e74cc02ce62907d4f2865c012 = $(`&lt;div id=&quot;html_6523ac1e74cc02ce62907d4f2865c012&quot; style=&quot;width: 100.0%; height: 100.0%;&quot;&gt;12678&lt;/div&gt;`)[0];\n                popup_84a327282aac076ed8badc623a8441da.setContent(html_6523ac1e74cc02ce62907d4f2865c012);\n            \n        \n\n        marker_5b3b926f6f6db158f42554eb1f2c8bff.bindPopup(popup_84a327282aac076ed8badc623a8441da)\n        ;\n\n        \n    \n    \n            var marker_ed63c0ed65afc38205359319ddbfe0bc = L.marker(\n                [-23.541999750000002, -46.640972250000004],\n                {}\n            ).addTo(map_087ea461ad9d1b3e949ff3050452f5c4);\n        \n    \n        var popup_da6bdc494fd23b0a79bf4b8301627147 = L.popup({&quot;maxWidth&quot;: &quot;100%&quot;});\n\n        \n            \n                var html_6492ce5aca9ea0aba4b8fee1a147f4b0 = $(`&lt;div id=&quot;html_6492ce5aca9ea0aba4b8fee1a147f4b0&quot; style=&quot;width: 100.0%; height: 100.0%;&quot;&gt;12681&lt;/div&gt;`)[0];\n                popup_da6bdc494fd23b0a79bf4b8301627147.setContent(html_6492ce5aca9ea0aba4b8fee1a147f4b0);\n            \n        \n\n        marker_ed63c0ed65afc38205359319ddbfe0bc.bindPopup(popup_da6bdc494fd23b0a79bf4b8301627147)\n        ;\n\n        \n    \n    \n            var marker_886b0a92de9ae75edd2ce794496b8499 = L.marker(\n                [-23.520411, -46.6997085],\n                {}\n            ).addTo(map_087ea461ad9d1b3e949ff3050452f5c4);\n        \n    \n        var popup_ce50792df5289a5930ed478360909ffa = L.popup({&quot;maxWidth&quot;: &quot;100%&quot;});\n\n        \n            \n                var html_5d324233a66dd77fc16a8dc58da0feee = $(`&lt;div id=&quot;html_5d324233a66dd77fc16a8dc58da0feee&quot; style=&quot;width: 100.0%; height: 100.0%;&quot;&gt;12611&lt;/div&gt;`)[0];\n                popup_ce50792df5289a5930ed478360909ffa.setContent(html_5d324233a66dd77fc16a8dc58da0feee);\n            \n        \n\n        marker_886b0a92de9ae75edd2ce794496b8499.bindPopup(popup_ce50792df5289a5930ed478360909ffa)\n        ;\n\n        \n    \n    \n            var marker_5c9faffcf4a837455f88bfc06aa15df4 = L.marker(\n                [-23.534564, -46.654302],\n                {}\n            ).addTo(map_087ea461ad9d1b3e949ff3050452f5c4);\n        \n    \n        var popup_159c51de696f36946f2bc0d2ba023d81 = L.popup({&quot;maxWidth&quot;: &quot;100%&quot;});\n\n        \n            \n                var html_bb5a100959efb231ac56cd87dbd9f0b7 = $(`&lt;div id=&quot;html_bb5a100959efb231ac56cd87dbd9f0b7&quot; style=&quot;width: 100.0%; height: 100.0%;&quot;&gt;1273 7014417&lt;/div&gt;`)[0];\n                popup_159c51de696f36946f2bc0d2ba023d81.setContent(html_bb5a100959efb231ac56cd87dbd9f0b7);\n            \n        \n\n        marker_5c9faffcf4a837455f88bfc06aa15df4.bindPopup(popup_159c51de696f36946f2bc0d2ba023d81)\n        ;\n\n        \n    \n    \n            var marker_26fea7896155ec2ab2ea6682d5c3d9a9 = L.marker(\n                [-23.525799, -46.679251],\n                {}\n            ).addTo(map_087ea461ad9d1b3e949ff3050452f5c4);\n        \n    \n        var popup_7d2ee10c3757caf17862988931746c5a = L.popup({&quot;maxWidth&quot;: &quot;100%&quot;});\n\n        \n            \n                var html_26fac00ce3a99d6b075bdfbe276d456f = $(`&lt;div id=&quot;html_26fac00ce3a99d6b075bdfbe276d456f&quot; style=&quot;width: 100.0%; height: 100.0%;&quot;&gt;1273 60016784&lt;/div&gt;`)[0];\n                popup_7d2ee10c3757caf17862988931746c5a.setContent(html_26fac00ce3a99d6b075bdfbe276d456f);\n            \n        \n\n        marker_26fea7896155ec2ab2ea6682d5c3d9a9.bindPopup(popup_7d2ee10c3757caf17862988931746c5a)\n        ;\n\n        \n    \n    \n            var marker_5aedda59656d9bba46f2f6043a776eee = L.marker(\n                [-23.526523, -46.673588],\n                {}\n            ).addTo(map_087ea461ad9d1b3e949ff3050452f5c4);\n        \n    \n        var popup_53457d9d3c018924a7e6dc0ec7bb21c5 = L.popup({&quot;maxWidth&quot;: &quot;100%&quot;});\n\n        \n            \n                var html_a66c74cf2d8e33406f3731f93886a549 = $(`&lt;div id=&quot;html_a66c74cf2d8e33406f3731f93886a549&quot; style=&quot;width: 100.0%; height: 100.0%;&quot;&gt;1273 60016786&lt;/div&gt;`)[0];\n                popup_53457d9d3c018924a7e6dc0ec7bb21c5.setContent(html_a66c74cf2d8e33406f3731f93886a549);\n            \n        \n\n        marker_5aedda59656d9bba46f2f6043a776eee.bindPopup(popup_53457d9d3c018924a7e6dc0ec7bb21c5)\n        ;\n\n        \n    \n    \n            var marker_f644381669064f0681dd01fa428613a0 = L.marker(\n                [-23.528131, -46.670652],\n                {}\n            ).addTo(map_087ea461ad9d1b3e949ff3050452f5c4);\n        \n    \n        var popup_7f2e65086139b0f2f53eec1008ab46e8 = L.popup({&quot;maxWidth&quot;: &quot;100%&quot;});\n\n        \n            \n                var html_5c50b677e539d5a773f80e8df4f29a38 = $(`&lt;div id=&quot;html_5c50b677e539d5a773f80e8df4f29a38&quot; style=&quot;width: 100.0%; height: 100.0%;&quot;&gt;1273 60016788&lt;/div&gt;`)[0];\n                popup_7f2e65086139b0f2f53eec1008ab46e8.setContent(html_5c50b677e539d5a773f80e8df4f29a38);\n            \n        \n\n        marker_f644381669064f0681dd01fa428613a0.bindPopup(popup_7f2e65086139b0f2f53eec1008ab46e8)\n        ;\n\n        \n    \n    \n            var marker_b20b44469c64ea75c396e8889664b33d = L.marker(\n                [-23.53021, -46.6669],\n                {}\n            ).addTo(map_087ea461ad9d1b3e949ff3050452f5c4);\n        \n    \n        var popup_4caac6d466860f60b06ddffac580b948 = L.popup({&quot;maxWidth&quot;: &quot;100%&quot;});\n\n        \n            \n                var html_c73c5b20ffd5f76c326c87fe9dd6f6f2 = $(`&lt;div id=&quot;html_c73c5b20ffd5f76c326c87fe9dd6f6f2&quot; style=&quot;width: 100.0%; height: 100.0%;&quot;&gt;1273 60016790&lt;/div&gt;`)[0];\n                popup_4caac6d466860f60b06ddffac580b948.setContent(html_c73c5b20ffd5f76c326c87fe9dd6f6f2);\n            \n        \n\n        marker_b20b44469c64ea75c396e8889664b33d.bindPopup(popup_4caac6d466860f60b06ddffac580b948)\n        ;\n\n        \n    \n    \n            var marker_061b26ef6175e3f6ae88f502657fb543 = L.marker(\n                [-23.52494, -46.698995],\n                {}\n            ).addTo(map_087ea461ad9d1b3e949ff3050452f5c4);\n        \n    \n        var popup_c8153032a5d5ba0d44f4dfdbba7511db = L.popup({&quot;maxWidth&quot;: &quot;100%&quot;});\n\n        \n            \n                var html_04f276db889ee6ccb0422fc85a50d7a8 = $(`&lt;div id=&quot;html_04f276db889ee6ccb0422fc85a50d7a8&quot; style=&quot;width: 100.0%; height: 100.0%;&quot;&gt;1273 480014612&lt;/div&gt;`)[0];\n                popup_c8153032a5d5ba0d44f4dfdbba7511db.setContent(html_04f276db889ee6ccb0422fc85a50d7a8);\n            \n        \n\n        marker_061b26ef6175e3f6ae88f502657fb543.bindPopup(popup_c8153032a5d5ba0d44f4dfdbba7511db)\n        ;\n\n        \n    \n    \n            var marker_dc4c3625c8cd808900ffb4f3dd45e9d9 = L.marker(\n                [-23.524994, -46.695297],\n                {}\n            ).addTo(map_087ea461ad9d1b3e949ff3050452f5c4);\n        \n    \n        var popup_401f9f3742d2b1bf801a8be28e62c463 = L.popup({&quot;maxWidth&quot;: &quot;100%&quot;});\n\n        \n            \n                var html_746c1e2669e29ced6942746a8c51cf02 = $(`&lt;div id=&quot;html_746c1e2669e29ced6942746a8c51cf02&quot; style=&quot;width: 100.0%; height: 100.0%;&quot;&gt;1273 480014613&lt;/div&gt;`)[0];\n                popup_401f9f3742d2b1bf801a8be28e62c463.setContent(html_746c1e2669e29ced6942746a8c51cf02);\n            \n        \n\n        marker_dc4c3625c8cd808900ffb4f3dd45e9d9.bindPopup(popup_401f9f3742d2b1bf801a8be28e62c463)\n        ;\n\n        \n    \n    \n            var marker_fa05c059c328386b53bdcd9524de2149 = L.marker(\n                [-23.525029, -46.690074],\n                {}\n            ).addTo(map_087ea461ad9d1b3e949ff3050452f5c4);\n        \n    \n        var popup_07d461c8213f4e89173a7882ee3e068b = L.popup({&quot;maxWidth&quot;: &quot;100%&quot;});\n\n        \n            \n                var html_7b3b55b629e1963051d6ce1c19b29ac5 = $(`&lt;div id=&quot;html_7b3b55b629e1963051d6ce1c19b29ac5&quot; style=&quot;width: 100.0%; height: 100.0%;&quot;&gt;1273 480014614&lt;/div&gt;`)[0];\n                popup_07d461c8213f4e89173a7882ee3e068b.setContent(html_7b3b55b629e1963051d6ce1c19b29ac5);\n            \n        \n\n        marker_fa05c059c328386b53bdcd9524de2149.bindPopup(popup_07d461c8213f4e89173a7882ee3e068b)\n        ;\n\n        \n    \n    \n            var marker_adad3aa2de8270e4dce9c4493e3a6096 = L.marker(\n                [-23.523409, -46.700503],\n                {}\n            ).addTo(map_087ea461ad9d1b3e949ff3050452f5c4);\n        \n    \n        var popup_45f7e38d3378996a84974c833bf12df2 = L.popup({&quot;maxWidth&quot;: &quot;100%&quot;});\n\n        \n            \n                var html_c95b4807db8d0147101413b66da17159 = $(`&lt;div id=&quot;html_c95b4807db8d0147101413b66da17159&quot; style=&quot;width: 100.0%; height: 100.0%;&quot;&gt;1273 480014961&lt;/div&gt;`)[0];\n                popup_45f7e38d3378996a84974c833bf12df2.setContent(html_c95b4807db8d0147101413b66da17159);\n            \n        \n\n        marker_adad3aa2de8270e4dce9c4493e3a6096.bindPopup(popup_45f7e38d3378996a84974c833bf12df2)\n        ;\n\n        \n    \n    \n            var marker_8e9f7bd0ef1177fc8ac26e5a7b8838a6 = L.marker(\n                [-23.52517, -46.683408],\n                {}\n            ).addTo(map_087ea461ad9d1b3e949ff3050452f5c4);\n        \n    \n        var popup_3513f841344ec41b3ab84b029c316e18 = L.popup({&quot;maxWidth&quot;: &quot;100%&quot;});\n\n        \n            \n                var html_7506632e3631b3954e08b20873b7f348 = $(`&lt;div id=&quot;html_7506632e3631b3954e08b20873b7f348&quot; style=&quot;width: 100.0%; height: 100.0%;&quot;&gt;1273 610014603&lt;/div&gt;`)[0];\n                popup_3513f841344ec41b3ab84b029c316e18.setContent(html_7506632e3631b3954e08b20873b7f348);\n            \n        \n\n        marker_8e9f7bd0ef1177fc8ac26e5a7b8838a6.bindPopup(popup_3513f841344ec41b3ab84b029c316e18)\n        ;\n\n        \n    \n    \n            var marker_088b7b6f61c29a42fd05b33d3f03d831 = L.marker(\n                [-23.540545, -46.643624],\n                {}\n            ).addTo(map_087ea461ad9d1b3e949ff3050452f5c4);\n        \n    \n        var popup_660fec5107ff5d8639a4ad7c6eaa74e4 = L.popup({&quot;maxWidth&quot;: &quot;100%&quot;});\n\n        \n            \n                var html_1c6aab041b5438f501d7903cd8d74302 = $(`&lt;div id=&quot;html_1c6aab041b5438f501d7903cd8d74302&quot; style=&quot;width: 100.0%; height: 100.0%;&quot;&gt;1273 670010530&lt;/div&gt;`)[0];\n                popup_660fec5107ff5d8639a4ad7c6eaa74e4.setContent(html_1c6aab041b5438f501d7903cd8d74302);\n            \n        \n\n        marker_088b7b6f61c29a42fd05b33d3f03d831.bindPopup(popup_660fec5107ff5d8639a4ad7c6eaa74e4)\n        ;\n\n        \n    \n    \n            var marker_96a7ebe599b90caf3f595319e8763039 = L.marker(\n                [-23.532847, -46.657404],\n                {}\n            ).addTo(map_087ea461ad9d1b3e949ff3050452f5c4);\n        \n    \n        var popup_589852469f1d3208d78449b23a0184d9 = L.popup({&quot;maxWidth&quot;: &quot;100%&quot;});\n\n        \n            \n                var html_f5f1f5ea6a5c6dacb9df3a0881f76f07 = $(`&lt;div id=&quot;html_f5f1f5ea6a5c6dacb9df3a0881f76f07&quot; style=&quot;width: 100.0%; height: 100.0%;&quot;&gt;1273 700006086&lt;/div&gt;`)[0];\n                popup_589852469f1d3208d78449b23a0184d9.setContent(html_f5f1f5ea6a5c6dacb9df3a0881f76f07);\n            \n        \n\n        marker_96a7ebe599b90caf3f595319e8763039.bindPopup(popup_589852469f1d3208d78449b23a0184d9)\n        ;\n\n        \n    \n    \n            var marker_032a740effd7c93d328eeba8f01d59ab = L.marker(\n                [-23.538708, -46.646888],\n                {}\n            ).addTo(map_087ea461ad9d1b3e949ff3050452f5c4);\n        \n    \n        var popup_f4a412128bc56b1cb3a0642a10f0968b = L.popup({&quot;maxWidth&quot;: &quot;100%&quot;});\n\n        \n            \n                var html_2c61ca2f6ab8aa8cdc8715d33cd5e334 = $(`&lt;div id=&quot;html_2c61ca2f6ab8aa8cdc8715d33cd5e334&quot; style=&quot;width: 100.0%; height: 100.0%;&quot;&gt;1273 700016623&lt;/div&gt;`)[0];\n                popup_f4a412128bc56b1cb3a0642a10f0968b.setContent(html_2c61ca2f6ab8aa8cdc8715d33cd5e334);\n            \n        \n\n        marker_032a740effd7c93d328eeba8f01d59ab.bindPopup(popup_f4a412128bc56b1cb3a0642a10f0968b)\n        ;\n\n        \n    \n    \n            var marker_f92041733ce08b1a667da67a23127d27 = L.marker(\n                [-23.532068, -46.660957],\n                {}\n            ).addTo(map_087ea461ad9d1b3e949ff3050452f5c4);\n        \n    \n        var popup_f2cb3f32425af38be23b9ab4d3af4fa6 = L.popup({&quot;maxWidth&quot;: &quot;100%&quot;});\n\n        \n            \n                var html_6fec726eac3c370439e0d1cb379331ea = $(`&lt;div id=&quot;html_6fec726eac3c370439e0d1cb379331ea&quot; style=&quot;width: 100.0%; height: 100.0%;&quot;&gt;1273 700016791&lt;/div&gt;`)[0];\n                popup_f2cb3f32425af38be23b9ab4d3af4fa6.setContent(html_6fec726eac3c370439e0d1cb379331ea);\n            \n        \n\n        marker_f92041733ce08b1a667da67a23127d27.bindPopup(popup_f2cb3f32425af38be23b9ab4d3af4fa6)\n        ;\n\n        \n    \n    \n            var marker_e6da41c44d3cfdf45721e9ba4ac4d3e1 = L.marker(\n                [-23.536318, -46.651201],\n                {}\n            ).addTo(map_087ea461ad9d1b3e949ff3050452f5c4);\n        \n    \n        var popup_042ce8aa521752433fb8c236702bd028 = L.popup({&quot;maxWidth&quot;: &quot;100%&quot;});\n\n        \n            \n                var html_858ecc062477345a2bed15f9e227c04e = $(`&lt;div id=&quot;html_858ecc062477345a2bed15f9e227c04e&quot; style=&quot;width: 100.0%; height: 100.0%;&quot;&gt;1273 700016866&lt;/div&gt;`)[0];\n                popup_042ce8aa521752433fb8c236702bd028.setContent(html_858ecc062477345a2bed15f9e227c04e);\n            \n        \n\n        marker_e6da41c44d3cfdf45721e9ba4ac4d3e1.bindPopup(popup_042ce8aa521752433fb8c236702bd028)\n        ;\n\n        \n    \n    \n            var marker_c7b3b87cfe2e08e74ae98c1b891ace69 = L.marker(\n                [-23.531838, -46.6641255],\n                {}\n            ).addTo(map_087ea461ad9d1b3e949ff3050452f5c4);\n        \n    \n        var popup_98d25a5be0744ea26d140aad891b56d2 = L.popup({&quot;maxWidth&quot;: &quot;100%&quot;});\n\n        \n            \n                var html_e90202982628cf3e15b3bfd506fadaf8 = $(`&lt;div id=&quot;html_e90202982628cf3e15b3bfd506fadaf8&quot; style=&quot;width: 100.0%; height: 100.0%;&quot;&gt;11525&lt;/div&gt;`)[0];\n                popup_98d25a5be0744ea26d140aad891b56d2.setContent(html_e90202982628cf3e15b3bfd506fadaf8);\n            \n        \n\n        marker_c7b3b87cfe2e08e74ae98c1b891ace69.bindPopup(popup_98d25a5be0744ea26d140aad891b56d2)\n        ;\n\n        \n    \n    \n            var marker_17272041787ddcaab1481cb2946afa09 = L.marker(\n                [-23.527608, -46.671511],\n                {}\n            ).addTo(map_087ea461ad9d1b3e949ff3050452f5c4);\n        \n    \n        var popup_0b336b04ba2138505c7c8b41a61a59ef = L.popup({&quot;maxWidth&quot;: &quot;100%&quot;});\n\n        \n            \n                var html_ca1be5753a11125443776d80c1be4a09 = $(`&lt;div id=&quot;html_ca1be5753a11125443776d80c1be4a09&quot; style=&quot;width: 100.0%; height: 100.0%;&quot;&gt;34041 614432&lt;/div&gt;`)[0];\n                popup_0b336b04ba2138505c7c8b41a61a59ef.setContent(html_ca1be5753a11125443776d80c1be4a09);\n            \n        \n\n        marker_17272041787ddcaab1481cb2946afa09.bindPopup(popup_0b336b04ba2138505c7c8b41a61a59ef)\n        ;\n\n        \n    \n    \n            var marker_e692a450db49f9e3b6bb981d51200087 = L.marker(\n                [-23.534377, -46.654322],\n                {}\n            ).addTo(map_087ea461ad9d1b3e949ff3050452f5c4);\n        \n    \n        var popup_48ee86a8cd072f03d46ac66473a082c4 = L.popup({&quot;maxWidth&quot;: &quot;100%&quot;});\n\n        \n            \n                var html_10ab972615865a26d41fdd492888ea34 = $(`&lt;div id=&quot;html_10ab972615865a26d41fdd492888ea34&quot; style=&quot;width: 100.0%; height: 100.0%;&quot;&gt;34041 7014416&lt;/div&gt;`)[0];\n                popup_48ee86a8cd072f03d46ac66473a082c4.setContent(html_10ab972615865a26d41fdd492888ea34);\n            \n        \n\n        marker_e692a450db49f9e3b6bb981d51200087.bindPopup(popup_48ee86a8cd072f03d46ac66473a082c4)\n        ;\n\n        \n    \n    \n            var marker_34b74164b2ed5d497196a25f0a8d9d82 = L.marker(\n                [-23.525262, -46.682254],\n                {}\n            ).addTo(map_087ea461ad9d1b3e949ff3050452f5c4);\n        \n    \n        var popup_5f8c5dc76f596b5d062c509046157a4d = L.popup({&quot;maxWidth&quot;: &quot;100%&quot;});\n\n        \n            \n                var html_331666fb3a126f39b21f4f6438c05311 = $(`&lt;div id=&quot;html_331666fb3a126f39b21f4f6438c05311&quot; style=&quot;width: 100.0%; height: 100.0%;&quot;&gt;34041 60014604&lt;/div&gt;`)[0];\n                popup_5f8c5dc76f596b5d062c509046157a4d.setContent(html_331666fb3a126f39b21f4f6438c05311);\n            \n        \n\n        marker_34b74164b2ed5d497196a25f0a8d9d82.bindPopup(popup_5f8c5dc76f596b5d062c509046157a4d)\n        ;\n\n        \n    \n    \n            var marker_8b4c635e82c3abf22d1e3cb3919c2ba0 = L.marker(\n                [-23.525653, -46.679493],\n                {}\n            ).addTo(map_087ea461ad9d1b3e949ff3050452f5c4);\n        \n    \n        var popup_49867af164387d756feed99d31bb2176 = L.popup({&quot;maxWidth&quot;: &quot;100%&quot;});\n\n        \n            \n                var html_ddd7fd96414c203818f40e7cf16749da = $(`&lt;div id=&quot;html_ddd7fd96414c203818f40e7cf16749da&quot; style=&quot;width: 100.0%; height: 100.0%;&quot;&gt;34041 60016783&lt;/div&gt;`)[0];\n                popup_49867af164387d756feed99d31bb2176.setContent(html_ddd7fd96414c203818f40e7cf16749da);\n            \n        \n\n        marker_8b4c635e82c3abf22d1e3cb3919c2ba0.bindPopup(popup_49867af164387d756feed99d31bb2176)\n        ;\n\n        \n    \n    \n            var marker_dfe967cd0d5c258b2f2a88529c68b569 = L.marker(\n                [-23.52622, -46.674187],\n                {}\n            ).addTo(map_087ea461ad9d1b3e949ff3050452f5c4);\n        \n    \n        var popup_cddc64f2a6b1c5549a5084b750952308 = L.popup({&quot;maxWidth&quot;: &quot;100%&quot;});\n\n        \n            \n                var html_b6e7496709e6d3ff3779d547e1daf233 = $(`&lt;div id=&quot;html_b6e7496709e6d3ff3779d547e1daf233&quot; style=&quot;width: 100.0%; height: 100.0%;&quot;&gt;34041 60016785&lt;/div&gt;`)[0];\n                popup_cddc64f2a6b1c5549a5084b750952308.setContent(html_b6e7496709e6d3ff3779d547e1daf233);\n            \n        \n\n        marker_dfe967cd0d5c258b2f2a88529c68b569.bindPopup(popup_cddc64f2a6b1c5549a5084b750952308)\n        ;\n\n        \n    \n    \n            var marker_15b18f232353a5942112aa68bd190a42 = L.marker(\n                [-23.529636, -46.667777],\n                {}\n            ).addTo(map_087ea461ad9d1b3e949ff3050452f5c4);\n        \n    \n        var popup_5dfba1ccc281b6a903ca25ffd2520cd4 = L.popup({&quot;maxWidth&quot;: &quot;100%&quot;});\n\n        \n            \n                var html_d15ab6ae6474a31a7eb2cf316f354fb1 = $(`&lt;div id=&quot;html_d15ab6ae6474a31a7eb2cf316f354fb1&quot; style=&quot;width: 100.0%; height: 100.0%;&quot;&gt;34041 60016789&lt;/div&gt;`)[0];\n                popup_5dfba1ccc281b6a903ca25ffd2520cd4.setContent(html_d15ab6ae6474a31a7eb2cf316f354fb1);\n            \n        \n\n        marker_15b18f232353a5942112aa68bd190a42.bindPopup(popup_5dfba1ccc281b6a903ca25ffd2520cd4)\n        ;\n\n        \n    \n    \n            var marker_9e6a59c43c32545ea2ec2cb1f665a5ca = L.marker(\n                [-23.522875, -46.688219],\n                {}\n            ).addTo(map_087ea461ad9d1b3e949ff3050452f5c4);\n        \n    \n        var popup_afda26f8f63a8fc3c3a9c638d6d45d9f = L.popup({&quot;maxWidth&quot;: &quot;100%&quot;});\n\n        \n            \n                var html_8e894ee4a9812509c18b1c47c4051780 = $(`&lt;div id=&quot;html_8e894ee4a9812509c18b1c47c4051780&quot; style=&quot;width: 100.0%; height: 100.0%;&quot;&gt;34041 480014608&lt;/div&gt;`)[0];\n                popup_afda26f8f63a8fc3c3a9c638d6d45d9f.setContent(html_8e894ee4a9812509c18b1c47c4051780);\n            \n        \n\n        marker_9e6a59c43c32545ea2ec2cb1f665a5ca.bindPopup(popup_afda26f8f63a8fc3c3a9c638d6d45d9f)\n        ;\n\n        \n    \n    \n            var marker_6ba5327caadb08edc6c11c153001c7f9 = L.marker(\n                [-23.522627, -46.692121],\n                {}\n            ).addTo(map_087ea461ad9d1b3e949ff3050452f5c4);\n        \n    \n        var popup_6d9a6dbbcb2e6d532f8eb920c3e9fdb2 = L.popup({&quot;maxWidth&quot;: &quot;100%&quot;});\n\n        \n            \n                var html_550b4a17f2ccf067323d3f6e8d081335 = $(`&lt;div id=&quot;html_550b4a17f2ccf067323d3f6e8d081335&quot; style=&quot;width: 100.0%; height: 100.0%;&quot;&gt;34041 480014609&lt;/div&gt;`)[0];\n                popup_6d9a6dbbcb2e6d532f8eb920c3e9fdb2.setContent(html_550b4a17f2ccf067323d3f6e8d081335);\n            \n        \n\n        marker_6ba5327caadb08edc6c11c153001c7f9.bindPopup(popup_6d9a6dbbcb2e6d532f8eb920c3e9fdb2)\n        ;\n\n        \n    \n    \n            var marker_d3bb584551f87ab5233215a4b207ef33 = L.marker(\n                [-23.522339, -46.696246],\n                {}\n            ).addTo(map_087ea461ad9d1b3e949ff3050452f5c4);\n        \n    \n        var popup_64814a819721f0dea700db533c279204 = L.popup({&quot;maxWidth&quot;: &quot;100%&quot;});\n\n        \n            \n                var html_3b1308a989d11c631de1957e1cae8ec1 = $(`&lt;div id=&quot;html_3b1308a989d11c631de1957e1cae8ec1&quot; style=&quot;width: 100.0%; height: 100.0%;&quot;&gt;34041 480014610&lt;/div&gt;`)[0];\n                popup_64814a819721f0dea700db533c279204.setContent(html_3b1308a989d11c631de1957e1cae8ec1);\n            \n        \n\n        marker_d3bb584551f87ab5233215a4b207ef33.bindPopup(popup_64814a819721f0dea700db533c279204)\n        ;\n\n        \n    \n    \n            var marker_f734beea4094108f7ab0a8b8354d365d = L.marker(\n                [-23.532629, -46.657465],\n                {}\n            ).addTo(map_087ea461ad9d1b3e949ff3050452f5c4);\n        \n    \n        var popup_2ec93e090d92e05c717793029db65618 = L.popup({&quot;maxWidth&quot;: &quot;100%&quot;});\n\n        \n            \n                var html_d4096e84927a15cc8b9770d38158d8a6 = $(`&lt;div id=&quot;html_d4096e84927a15cc8b9770d38158d8a6&quot; style=&quot;width: 100.0%; height: 100.0%;&quot;&gt;34041 700006085&lt;/div&gt;`)[0];\n                popup_2ec93e090d92e05c717793029db65618.setContent(html_d4096e84927a15cc8b9770d38158d8a6);\n            \n        \n\n        marker_f734beea4094108f7ab0a8b8354d365d.bindPopup(popup_2ec93e090d92e05c717793029db65618)\n        ;\n\n        \n    \n    \n            var marker_dc84ea0bebc5e4fd0911fdc70d8319f7 = L.marker(\n                [-23.538357, -46.64733],\n                {}\n            ).addTo(map_087ea461ad9d1b3e949ff3050452f5c4);\n        \n    \n        var popup_62b763068ecfbd1f3fd7301dbd0ee342 = L.popup({&quot;maxWidth&quot;: &quot;100%&quot;});\n\n        \n            \n                var html_939d6485e7e9a122b151d4a64ce22c0c = $(`&lt;div id=&quot;html_939d6485e7e9a122b151d4a64ce22c0c&quot; style=&quot;width: 100.0%; height: 100.0%;&quot;&gt;34041 700016624&lt;/div&gt;`)[0];\n                popup_62b763068ecfbd1f3fd7301dbd0ee342.setContent(html_939d6485e7e9a122b151d4a64ce22c0c);\n            \n        \n\n        marker_dc84ea0bebc5e4fd0911fdc70d8319f7.bindPopup(popup_62b763068ecfbd1f3fd7301dbd0ee342)\n        ;\n\n        \n    \n    \n            var marker_675eb48e3331a45e0d365d77b87ab548 = L.marker(\n                [-23.531864, -46.660859],\n                {}\n            ).addTo(map_087ea461ad9d1b3e949ff3050452f5c4);\n        \n    \n        var popup_e96d65fd8dc55c1a79257868f7c20e4d = L.popup({&quot;maxWidth&quot;: &quot;100%&quot;});\n\n        \n            \n                var html_4aac0a4f1eab33383cd4610c3a0ceee6 = $(`&lt;div id=&quot;html_4aac0a4f1eab33383cd4610c3a0ceee6&quot; style=&quot;width: 100.0%; height: 100.0%;&quot;&gt;34041 700016792&lt;/div&gt;`)[0];\n                popup_e96d65fd8dc55c1a79257868f7c20e4d.setContent(html_4aac0a4f1eab33383cd4610c3a0ceee6);\n            \n        \n\n        marker_675eb48e3331a45e0d365d77b87ab548.bindPopup(popup_e96d65fd8dc55c1a79257868f7c20e4d)\n        ;\n\n        \n    \n    \n            var marker_735abcbd88ef6655ec48a69070c5e2d8 = L.marker(\n                [-23.536498, -46.650579],\n                {}\n            ).addTo(map_087ea461ad9d1b3e949ff3050452f5c4);\n        \n    \n        var popup_ddeb3b6c2d33a1f8e1f32cf0e670d873 = L.popup({&quot;maxWidth&quot;: &quot;100%&quot;});\n\n        \n            \n                var html_c359b4801a51cac3b23f32b1b9b7709d = $(`&lt;div id=&quot;html_c359b4801a51cac3b23f32b1b9b7709d&quot; style=&quot;width: 100.0%; height: 100.0%;&quot;&gt;34041 700016865&lt;/div&gt;`)[0];\n                popup_ddeb3b6c2d33a1f8e1f32cf0e670d873.setContent(html_c359b4801a51cac3b23f32b1b9b7709d);\n            \n        \n\n        marker_735abcbd88ef6655ec48a69070c5e2d8.bindPopup(popup_ddeb3b6c2d33a1f8e1f32cf0e670d873)\n        ;\n\n        \n    \n&lt;/script&gt;\n&lt;/html&gt;\" style=\"position:absolute;width:100%;height:100%;left:0;top:0;border:none !important;\" allowfullscreen webkitallowfullscreen mozallowfullscreen></iframe></div></div>"
     },
     "execution_count": 38,
     "metadata": {},
     "output_type": "execute_result"
    }
   ],
   "source": [
    "mapa_parada = folium.Map(location=[parada.posicao.latitude, parada.posicao.longitude], zoom_start=12)\n",
    "icone2 = folium.Icon(color='red', icon='ok-sign')\n",
    "\n",
    "for linha in linhas:\n",
    "    lista_paradas = ss.buscar_paradas(linha.codigo_identificador)\n",
    "    lista_posicoes_veiculos = ss.buscar_posicoes_veiculos(linha.codigo_identificador)\n",
    "    for parada in lista_paradas:\n",
    "        folium.Marker(location=[parada.posicao.latitude, parada.posicao.longitude], popup=str(linha.codigo_identificador) + ' ' + str(parada.codigo_parada)).add_to(mapa_parada)\n",
    "    for posicao_veiculo in lista_posicoes_veiculos:\n",
    "        folium.Marker([posicao_veiculo.posicao.latitude, posicao_veiculo.posicao.longitude], popup=posicao_veiculo.prefixo ).add_to(mapa_parada)\n",
    "\n",
    "mapa_parada"
   ],
   "metadata": {
    "collapsed": false
   }
  }
 ],
 "metadata": {
  "kernelspec": {
   "display_name": "Python 3",
   "language": "python",
   "name": "python3"
  },
  "language_info": {
   "codemirror_mode": {
    "name": "ipython",
    "version": 2
   },
   "file_extension": ".py",
   "mimetype": "text/x-python",
   "name": "python",
   "nbconvert_exporter": "python",
   "pygments_lexer": "ipython2",
   "version": "2.7.6"
  }
 },
 "nbformat": 4,
 "nbformat_minor": 0
}
