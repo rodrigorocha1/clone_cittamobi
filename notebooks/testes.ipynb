{
 "cells": [
  {
   "cell_type": "code",
   "execution_count": 1,
   "metadata": {
    "collapsed": true
   },
   "outputs": [],
   "source": [
    "import pandas as pd\n",
    "from services.service_sptrans import ServiceSPTRANS\n",
    "import folium\n",
    "from entidades.onibus import Onibus"
   ]
  },
  {
   "cell_type": "code",
   "execution_count": 2,
   "outputs": [],
   "source": [
    "a = '778J'\n",
    "b = '41'"
   ],
   "metadata": {
    "collapsed": false
   }
  },
  {
   "cell_type": "code",
   "execution_count": 3,
   "outputs": [],
   "source": [
    "base = pd.read_csv('../data/raw/routes.txt', delimiter=',')"
   ],
   "metadata": {
    "collapsed": false
   }
  },
  {
   "cell_type": "markdown",
   "source": [],
   "metadata": {
    "collapsed": false
   }
  },
  {
   "cell_type": "code",
   "execution_count": 4,
   "outputs": [
    {
     "data": {
      "text/plain": "('FF671F', str)"
     },
     "execution_count": 4,
     "metadata": {},
     "output_type": "execute_result"
    }
   ],
   "source": [
    "base[base['route_id'] == a + '-' + b ]['route_color'].iloc[0], type(base[base['route_id'] == a + '-' + b ]['route_color'].iloc[0])"
   ],
   "metadata": {
    "collapsed": false
   }
  },
  {
   "cell_type": "code",
   "execution_count": 14,
   "outputs": [
    {
     "data": {
      "text/plain": "[<entidades.linhas.Linha at 0x1640ce01fd0>,\n <entidades.linhas.Linha at 0x1640ce01080>,\n <entidades.linhas.Linha at 0x1640ce01a90>,\n <entidades.linhas.Linha at 0x1640c6f37f0>]"
     },
     "execution_count": 14,
     "metadata": {},
     "output_type": "execute_result"
    }
   ],
   "source": [
    "ss = ServiceSPTRANS()\n",
    "linhas = ss.consultar_linha('8000')\n",
    "linhas"
   ],
   "metadata": {
    "collapsed": false
   }
  },
  {
   "cell_type": "code",
   "execution_count": 6,
   "outputs": [
    {
     "data": {
      "text/plain": "[<entidades.linhas.Linha at 0x1640b442a58>,\n <entidades.linhas.Linha at 0x1640bab9ba8>]"
     },
     "execution_count": 6,
     "metadata": {},
     "output_type": "execute_result"
    }
   ],
   "source": [
    "linhas"
   ],
   "metadata": {
    "collapsed": false
   }
  },
  {
   "cell_type": "code",
   "execution_count": 7,
   "outputs": [
    {
     "name": "stdout",
     "output_type": "stream",
     "text": [
      "1146\n",
      "PAULO WHITAKER B/C\n",
      "230009824\n",
      "R DOUTOR PAULO DE BARROS WHITAKER/ R DINAZAR FERRAZ DE CAMARGO\n",
      "lat -23.713286\n",
      "lon -46.698421\n",
      "=======================\n",
      "MARLY O. COBRA B/C\n",
      "230009826\n",
      "R SILVES/ R RORAIMA\n",
      "lat -23.716251\n",
      "lon -46.699069\n",
      "=======================\n",
      "JAQUIRANA B/C\n",
      "230009882\n",
      "R JAQUIRANA/ AV DO JANGADEIRO\n",
      "lat -23.705632\n",
      "lon -46.700488\n",
      "=======================\n",
      "INTERLAGOS B/C\n",
      "230009883\n",
      "AV AUTODROMO/ AV INTERLAGOS -- 27º BPM\n",
      "lat -23.701925\n",
      "lon -46.701283\n",
      "=======================\n",
      "GUAIÚBA  B/C\n",
      "230016401\n",
      "R GUAIUBA/ R JUNDIAZINHO\n",
      "lat -23.708653\n",
      "lon -46.699795\n",
      "=======================\n",
      "33914\n",
      "JANGADEIRO C/B\n",
      "230009480\n",
      "AV SENADOR TEOTONIO VILELA/ AV INTERLAGOS\n",
      "lat -23.706106\n",
      "lon -46.7011\n",
      "=======================\n",
      "CATARINO ANDERATA C/B\n",
      "230009560\n",
      "R CATARINO ANDREATTA/ AV SENADOR TEOTONIO VILELA\n",
      "lat -23.702749\n",
      "lon -46.701907\n",
      "=======================\n",
      "PARADA 2 - PE. JOSÉ GARZOTTI C/B\n",
      "230009823\n",
      "R ANIBAL DOS ANJOS CARVALHO/ R PADRE JOSE GARZOTTI\n",
      "lat -23.711261\n",
      "lon -46.699107\n",
      "=======================\n",
      "RORAIMA C/B\n",
      "230009825\n",
      "R SILVES/ R RORAIMA\n",
      "lat -23.71618\n",
      "lon -46.699274\n",
      "=======================\n"
     ]
    },
    {
     "data": {
      "text/plain": "[<entidades.parada.Parada at 0x1640bab9a20>,\n <entidades.parada.Parada at 0x1640bab98d0>,\n <entidades.parada.Parada at 0x1640b467d30>,\n <entidades.parada.Parada at 0x1640b467940>]"
     },
     "execution_count": 7,
     "metadata": {},
     "output_type": "execute_result"
    }
   ],
   "source": [
    "for linha in linhas:\n",
    "\n",
    "    lista_paradas = ss.buscar_paradas(linha.codigo_identificador)\n",
    "    print(linha.codigo_identificador)\n",
    "    for parada in lista_paradas:\n",
    "        print(parada.nome_parada)\n",
    "        print(parada.codigo_parada)\n",
    "        print(parada.endereco_localizacao)\n",
    "        print('lat', parada.posicao.latitude)\n",
    "        print('lon', parada.posicao.longitude)\n",
    "        print('=======================')\n",
    "lista_paradas"
   ],
   "metadata": {
    "collapsed": false
   }
  },
  {
   "cell_type": "markdown",
   "source": [
    "# Mapa dos pontos de ônibus"
   ],
   "metadata": {
    "collapsed": false
   }
  },
  {
   "cell_type": "code",
   "execution_count": 8,
   "outputs": [
    {
     "name": "stdout",
     "output_type": "stream",
     "text": [
      "JANGADEIRO C/B\n",
      "230009480\n",
      "AV SENADOR TEOTONIO VILELA/ AV INTERLAGOS\n",
      "lat -23.706106\n",
      "lon -46.7011\n",
      "=======================\n",
      "CATARINO ANDERATA C/B\n",
      "230009560\n",
      "R CATARINO ANDREATTA/ AV SENADOR TEOTONIO VILELA\n",
      "lat -23.702749\n",
      "lon -46.701907\n",
      "=======================\n",
      "PARADA 2 - PE. JOSÉ GARZOTTI C/B\n",
      "230009823\n",
      "R ANIBAL DOS ANJOS CARVALHO/ R PADRE JOSE GARZOTTI\n",
      "lat -23.711261\n",
      "lon -46.699107\n",
      "=======================\n",
      "RORAIMA C/B\n",
      "230009825\n",
      "R SILVES/ R RORAIMA\n",
      "lat -23.71618\n",
      "lon -46.699274\n",
      "=======================\n"
     ]
    }
   ],
   "source": [
    "for parada in lista_paradas:\n",
    "    print(parada.nome_parada)\n",
    "    print(parada.codigo_parada)\n",
    "    print(parada.endereco_localizacao)\n",
    "    print('lat', parada.posicao.latitude)\n",
    "    print('lon', parada.posicao.longitude)\n",
    "    print('=======================')"
   ],
   "metadata": {
    "collapsed": false
   }
  },
  {
   "cell_type": "code",
   "execution_count": 28,
   "outputs": [
    {
     "data": {
      "text/plain": "<folium.folium.Map at 0x1640d3aa320>",
      "text/html": "<div style=\"width:100%;\"><div style=\"position:relative;width:100%;height:0;padding-bottom:60%;\"><span style=\"color:#565656\">Make this Notebook Trusted to load map: File -> Trust Notebook</span><iframe srcdoc=\"&lt;!DOCTYPE html&gt;\n&lt;html&gt;\n&lt;head&gt;\n    \n    &lt;meta http-equiv=&quot;content-type&quot; content=&quot;text/html; charset=UTF-8&quot; /&gt;\n    \n        &lt;script&gt;\n            L_NO_TOUCH = false;\n            L_DISABLE_3D = false;\n        &lt;/script&gt;\n    \n    &lt;style&gt;html, body {width: 100%;height: 100%;margin: 0;padding: 0;}&lt;/style&gt;\n    &lt;style&gt;#map {position:absolute;top:0;bottom:0;right:0;left:0;}&lt;/style&gt;\n    &lt;script src=&quot;https://cdn.jsdelivr.net/npm/leaflet@1.9.3/dist/leaflet.js&quot;&gt;&lt;/script&gt;\n    &lt;script src=&quot;https://code.jquery.com/jquery-1.12.4.min.js&quot;&gt;&lt;/script&gt;\n    &lt;script src=&quot;https://cdn.jsdelivr.net/npm/bootstrap@5.2.2/dist/js/bootstrap.bundle.min.js&quot;&gt;&lt;/script&gt;\n    &lt;script src=&quot;https://cdnjs.cloudflare.com/ajax/libs/Leaflet.awesome-markers/2.0.2/leaflet.awesome-markers.js&quot;&gt;&lt;/script&gt;\n    &lt;link rel=&quot;stylesheet&quot; href=&quot;https://cdn.jsdelivr.net/npm/leaflet@1.9.3/dist/leaflet.css&quot;/&gt;\n    &lt;link rel=&quot;stylesheet&quot; href=&quot;https://cdn.jsdelivr.net/npm/bootstrap@5.2.2/dist/css/bootstrap.min.css&quot;/&gt;\n    &lt;link rel=&quot;stylesheet&quot; href=&quot;https://netdna.bootstrapcdn.com/bootstrap/3.0.0/css/bootstrap.min.css&quot;/&gt;\n    &lt;link rel=&quot;stylesheet&quot; href=&quot;https://cdn.jsdelivr.net/npm/@fortawesome/fontawesome-free@6.2.0/css/all.min.css&quot;/&gt;\n    &lt;link rel=&quot;stylesheet&quot; href=&quot;https://cdnjs.cloudflare.com/ajax/libs/Leaflet.awesome-markers/2.0.2/leaflet.awesome-markers.css&quot;/&gt;\n    &lt;link rel=&quot;stylesheet&quot; href=&quot;https://cdn.jsdelivr.net/gh/python-visualization/folium/folium/templates/leaflet.awesome.rotate.min.css&quot;/&gt;\n    \n            &lt;meta name=&quot;viewport&quot; content=&quot;width=device-width,\n                initial-scale=1.0, maximum-scale=1.0, user-scalable=no&quot; /&gt;\n            &lt;style&gt;\n                #map_5f60b933b6259cc8fcfb4d58ba0a483a {\n                    position: relative;\n                    width: 100.0%;\n                    height: 100.0%;\n                    left: 0.0%;\n                    top: 0.0%;\n                }\n                .leaflet-container { font-size: 1rem; }\n            &lt;/style&gt;\n        \n&lt;/head&gt;\n&lt;body&gt;\n    \n    \n            &lt;div class=&quot;folium-map&quot; id=&quot;map_5f60b933b6259cc8fcfb4d58ba0a483a&quot; &gt;&lt;/div&gt;\n        \n&lt;/body&gt;\n&lt;script&gt;\n    \n    \n            var map_5f60b933b6259cc8fcfb4d58ba0a483a = L.map(\n                &quot;map_5f60b933b6259cc8fcfb4d58ba0a483a&quot;,\n                {\n                    center: [-23.536498, -46.650579],\n                    crs: L.CRS.EPSG3857,\n                    zoom: 12,\n                    zoomControl: true,\n                    preferCanvas: false,\n                }\n            );\n\n            \n\n        \n    \n            var tile_layer_cf96bc05751c0ef4c628db6ad3cfa377 = L.tileLayer(\n                &quot;https://{s}.tile.openstreetmap.org/{z}/{x}/{y}.png&quot;,\n                {&quot;attribution&quot;: &quot;Data by \\u0026copy; \\u003ca target=\\&quot;_blank\\&quot; href=\\&quot;http://openstreetmap.org\\&quot;\\u003eOpenStreetMap\\u003c/a\\u003e, under \\u003ca target=\\&quot;_blank\\&quot; href=\\&quot;http://www.openstreetmap.org/copyright\\&quot;\\u003eODbL\\u003c/a\\u003e.&quot;, &quot;detectRetina&quot;: false, &quot;maxNativeZoom&quot;: 18, &quot;maxZoom&quot;: 18, &quot;minZoom&quot;: 0, &quot;noWrap&quot;: false, &quot;opacity&quot;: 1, &quot;subdomains&quot;: &quot;abc&quot;, &quot;tms&quot;: false}\n            ).addTo(map_5f60b933b6259cc8fcfb4d58ba0a483a);\n        \n    \n            var marker_0c49ae3d68e76d04ae268e4fbc814a20 = L.marker(\n                [-23.534564, -46.654302],\n                {}\n            ).addTo(map_5f60b933b6259cc8fcfb4d58ba0a483a);\n        \n    \n        var popup_47a0a4776150e03e45386292a6ce76af = L.popup({&quot;maxWidth&quot;: &quot;100%&quot;});\n\n        \n            \n                var html_ed449af02eb4e1f5f8de8ccb5a1242fa = $(`&lt;div id=&quot;html_ed449af02eb4e1f5f8de8ccb5a1242fa&quot; style=&quot;width: 100.0%; height: 100.0%;&quot;&gt;2506 7014417&lt;/div&gt;`)[0];\n                popup_47a0a4776150e03e45386292a6ce76af.setContent(html_ed449af02eb4e1f5f8de8ccb5a1242fa);\n            \n        \n\n        marker_0c49ae3d68e76d04ae268e4fbc814a20.bindPopup(popup_47a0a4776150e03e45386292a6ce76af)\n        ;\n\n        \n    \n    \n            var marker_c376520cddfc4bad897ebc63c170bd88 = L.marker(\n                [-23.525799, -46.679251],\n                {}\n            ).addTo(map_5f60b933b6259cc8fcfb4d58ba0a483a);\n        \n    \n        var popup_3db9378a9c6c23041790b208f7761a4d = L.popup({&quot;maxWidth&quot;: &quot;100%&quot;});\n\n        \n            \n                var html_9bf8dab755cb8840f57746d5b95a2cbd = $(`&lt;div id=&quot;html_9bf8dab755cb8840f57746d5b95a2cbd&quot; style=&quot;width: 100.0%; height: 100.0%;&quot;&gt;2506 60016784&lt;/div&gt;`)[0];\n                popup_3db9378a9c6c23041790b208f7761a4d.setContent(html_9bf8dab755cb8840f57746d5b95a2cbd);\n            \n        \n\n        marker_c376520cddfc4bad897ebc63c170bd88.bindPopup(popup_3db9378a9c6c23041790b208f7761a4d)\n        ;\n\n        \n    \n    \n            var marker_bccae9fbc9ddf0595e5cb7971f537898 = L.marker(\n                [-23.526523, -46.673588],\n                {}\n            ).addTo(map_5f60b933b6259cc8fcfb4d58ba0a483a);\n        \n    \n        var popup_0d169261d7d4b50f601bfbbce29d8e95 = L.popup({&quot;maxWidth&quot;: &quot;100%&quot;});\n\n        \n            \n                var html_828e38eef9c630e536dd860fc8e1b2f3 = $(`&lt;div id=&quot;html_828e38eef9c630e536dd860fc8e1b2f3&quot; style=&quot;width: 100.0%; height: 100.0%;&quot;&gt;2506 60016786&lt;/div&gt;`)[0];\n                popup_0d169261d7d4b50f601bfbbce29d8e95.setContent(html_828e38eef9c630e536dd860fc8e1b2f3);\n            \n        \n\n        marker_bccae9fbc9ddf0595e5cb7971f537898.bindPopup(popup_0d169261d7d4b50f601bfbbce29d8e95)\n        ;\n\n        \n    \n    \n            var marker_4decac130b2aa88e20ea522d9c5ffa25 = L.marker(\n                [-23.528131, -46.670652],\n                {}\n            ).addTo(map_5f60b933b6259cc8fcfb4d58ba0a483a);\n        \n    \n        var popup_dc739ac1cb546a9ce67e553dd16d6011 = L.popup({&quot;maxWidth&quot;: &quot;100%&quot;});\n\n        \n            \n                var html_320acd97abfde991b923f9e6d43437af = $(`&lt;div id=&quot;html_320acd97abfde991b923f9e6d43437af&quot; style=&quot;width: 100.0%; height: 100.0%;&quot;&gt;2506 60016788&lt;/div&gt;`)[0];\n                popup_dc739ac1cb546a9ce67e553dd16d6011.setContent(html_320acd97abfde991b923f9e6d43437af);\n            \n        \n\n        marker_4decac130b2aa88e20ea522d9c5ffa25.bindPopup(popup_dc739ac1cb546a9ce67e553dd16d6011)\n        ;\n\n        \n    \n    \n            var marker_8ed3916942d2b01d0b557a41defe198b = L.marker(\n                [-23.53021, -46.6669],\n                {}\n            ).addTo(map_5f60b933b6259cc8fcfb4d58ba0a483a);\n        \n    \n        var popup_765ab8f9a1752282844c918b67109a0a = L.popup({&quot;maxWidth&quot;: &quot;100%&quot;});\n\n        \n            \n                var html_2ee7665ae630b1305eff40d65a7c094e = $(`&lt;div id=&quot;html_2ee7665ae630b1305eff40d65a7c094e&quot; style=&quot;width: 100.0%; height: 100.0%;&quot;&gt;2506 60016790&lt;/div&gt;`)[0];\n                popup_765ab8f9a1752282844c918b67109a0a.setContent(html_2ee7665ae630b1305eff40d65a7c094e);\n            \n        \n\n        marker_8ed3916942d2b01d0b557a41defe198b.bindPopup(popup_765ab8f9a1752282844c918b67109a0a)\n        ;\n\n        \n    \n    \n            var marker_095f2e78d5e6a60f069c1f7c88e7b8f5 = L.marker(\n                [-23.52494, -46.698995],\n                {}\n            ).addTo(map_5f60b933b6259cc8fcfb4d58ba0a483a);\n        \n    \n        var popup_fbefeab19cd233f5ef3affbe8a377ee3 = L.popup({&quot;maxWidth&quot;: &quot;100%&quot;});\n\n        \n            \n                var html_2cd12ee649e49d6255661610f597677f = $(`&lt;div id=&quot;html_2cd12ee649e49d6255661610f597677f&quot; style=&quot;width: 100.0%; height: 100.0%;&quot;&gt;2506 480014612&lt;/div&gt;`)[0];\n                popup_fbefeab19cd233f5ef3affbe8a377ee3.setContent(html_2cd12ee649e49d6255661610f597677f);\n            \n        \n\n        marker_095f2e78d5e6a60f069c1f7c88e7b8f5.bindPopup(popup_fbefeab19cd233f5ef3affbe8a377ee3)\n        ;\n\n        \n    \n    \n            var marker_ab402eb248fc3de16a10234524d7362b = L.marker(\n                [-23.524994, -46.695297],\n                {}\n            ).addTo(map_5f60b933b6259cc8fcfb4d58ba0a483a);\n        \n    \n        var popup_8550725669b3413f8aa8c5f5d7d8149f = L.popup({&quot;maxWidth&quot;: &quot;100%&quot;});\n\n        \n            \n                var html_a99b1a4f0d14565f3f2b091380ae666b = $(`&lt;div id=&quot;html_a99b1a4f0d14565f3f2b091380ae666b&quot; style=&quot;width: 100.0%; height: 100.0%;&quot;&gt;2506 480014613&lt;/div&gt;`)[0];\n                popup_8550725669b3413f8aa8c5f5d7d8149f.setContent(html_a99b1a4f0d14565f3f2b091380ae666b);\n            \n        \n\n        marker_ab402eb248fc3de16a10234524d7362b.bindPopup(popup_8550725669b3413f8aa8c5f5d7d8149f)\n        ;\n\n        \n    \n    \n            var marker_6fe4f041c85082489df969ffb63dcdf4 = L.marker(\n                [-23.525029, -46.690074],\n                {}\n            ).addTo(map_5f60b933b6259cc8fcfb4d58ba0a483a);\n        \n    \n        var popup_09b3069f7005840dc9d140d444279c2c = L.popup({&quot;maxWidth&quot;: &quot;100%&quot;});\n\n        \n            \n                var html_3ac07d89f1560870f1e8f035c4547baa = $(`&lt;div id=&quot;html_3ac07d89f1560870f1e8f035c4547baa&quot; style=&quot;width: 100.0%; height: 100.0%;&quot;&gt;2506 480014614&lt;/div&gt;`)[0];\n                popup_09b3069f7005840dc9d140d444279c2c.setContent(html_3ac07d89f1560870f1e8f035c4547baa);\n            \n        \n\n        marker_6fe4f041c85082489df969ffb63dcdf4.bindPopup(popup_09b3069f7005840dc9d140d444279c2c)\n        ;\n\n        \n    \n    \n            var marker_26cd3b5c23a8c1f37900534ef2095bbe = L.marker(\n                [-23.523409, -46.700503],\n                {}\n            ).addTo(map_5f60b933b6259cc8fcfb4d58ba0a483a);\n        \n    \n        var popup_1ac1172fce325e9bb604d40856464af3 = L.popup({&quot;maxWidth&quot;: &quot;100%&quot;});\n\n        \n            \n                var html_663902ce9fcbb7d0946f56e4a0e167b8 = $(`&lt;div id=&quot;html_663902ce9fcbb7d0946f56e4a0e167b8&quot; style=&quot;width: 100.0%; height: 100.0%;&quot;&gt;2506 480014961&lt;/div&gt;`)[0];\n                popup_1ac1172fce325e9bb604d40856464af3.setContent(html_663902ce9fcbb7d0946f56e4a0e167b8);\n            \n        \n\n        marker_26cd3b5c23a8c1f37900534ef2095bbe.bindPopup(popup_1ac1172fce325e9bb604d40856464af3)\n        ;\n\n        \n    \n    \n            var marker_80fff4b92240d97f0dc35a6f98966619 = L.marker(\n                [-23.52517, -46.683408],\n                {}\n            ).addTo(map_5f60b933b6259cc8fcfb4d58ba0a483a);\n        \n    \n        var popup_7b728563946ead6b55f4908328ea7276 = L.popup({&quot;maxWidth&quot;: &quot;100%&quot;});\n\n        \n            \n                var html_be4d43310034f05ca896300c7d5ed24b = $(`&lt;div id=&quot;html_be4d43310034f05ca896300c7d5ed24b&quot; style=&quot;width: 100.0%; height: 100.0%;&quot;&gt;2506 610014603&lt;/div&gt;`)[0];\n                popup_7b728563946ead6b55f4908328ea7276.setContent(html_be4d43310034f05ca896300c7d5ed24b);\n            \n        \n\n        marker_80fff4b92240d97f0dc35a6f98966619.bindPopup(popup_7b728563946ead6b55f4908328ea7276)\n        ;\n\n        \n    \n    \n            var marker_0cccb2b29cb9749a6769c551666eadc0 = L.marker(\n                [-23.540545, -46.643624],\n                {}\n            ).addTo(map_5f60b933b6259cc8fcfb4d58ba0a483a);\n        \n    \n        var popup_5c046316e78b47ea23f90645195e124a = L.popup({&quot;maxWidth&quot;: &quot;100%&quot;});\n\n        \n            \n                var html_14d7ec0c1d6fe7f5b6ac3d9711210c03 = $(`&lt;div id=&quot;html_14d7ec0c1d6fe7f5b6ac3d9711210c03&quot; style=&quot;width: 100.0%; height: 100.0%;&quot;&gt;2506 670010530&lt;/div&gt;`)[0];\n                popup_5c046316e78b47ea23f90645195e124a.setContent(html_14d7ec0c1d6fe7f5b6ac3d9711210c03);\n            \n        \n\n        marker_0cccb2b29cb9749a6769c551666eadc0.bindPopup(popup_5c046316e78b47ea23f90645195e124a)\n        ;\n\n        \n    \n    \n            var marker_bc26946ee9bfcafb51210fa7139b7893 = L.marker(\n                [-23.532847, -46.657404],\n                {}\n            ).addTo(map_5f60b933b6259cc8fcfb4d58ba0a483a);\n        \n    \n        var popup_78227af868b8d740b38efeeafcf9092d = L.popup({&quot;maxWidth&quot;: &quot;100%&quot;});\n\n        \n            \n                var html_df8b2aa628ccd550cf866f2884cf5e15 = $(`&lt;div id=&quot;html_df8b2aa628ccd550cf866f2884cf5e15&quot; style=&quot;width: 100.0%; height: 100.0%;&quot;&gt;2506 700006086&lt;/div&gt;`)[0];\n                popup_78227af868b8d740b38efeeafcf9092d.setContent(html_df8b2aa628ccd550cf866f2884cf5e15);\n            \n        \n\n        marker_bc26946ee9bfcafb51210fa7139b7893.bindPopup(popup_78227af868b8d740b38efeeafcf9092d)\n        ;\n\n        \n    \n    \n            var marker_4dc152dc167d412cc3753ad8db5fde9a = L.marker(\n                [-23.538708, -46.646888],\n                {}\n            ).addTo(map_5f60b933b6259cc8fcfb4d58ba0a483a);\n        \n    \n        var popup_ac5e6a2c53f9651af3663ed60c018bd3 = L.popup({&quot;maxWidth&quot;: &quot;100%&quot;});\n\n        \n            \n                var html_ce5bd1960c263de769909b513b99cc2e = $(`&lt;div id=&quot;html_ce5bd1960c263de769909b513b99cc2e&quot; style=&quot;width: 100.0%; height: 100.0%;&quot;&gt;2506 700016623&lt;/div&gt;`)[0];\n                popup_ac5e6a2c53f9651af3663ed60c018bd3.setContent(html_ce5bd1960c263de769909b513b99cc2e);\n            \n        \n\n        marker_4dc152dc167d412cc3753ad8db5fde9a.bindPopup(popup_ac5e6a2c53f9651af3663ed60c018bd3)\n        ;\n\n        \n    \n    \n            var marker_c013e7420f87aaa2f8cf7ee3b2b856c7 = L.marker(\n                [-23.532068, -46.660957],\n                {}\n            ).addTo(map_5f60b933b6259cc8fcfb4d58ba0a483a);\n        \n    \n        var popup_b7922f7065b8e73ec782592801a4eeb0 = L.popup({&quot;maxWidth&quot;: &quot;100%&quot;});\n\n        \n            \n                var html_cdb54391da981da7ab2bde4a1024d27c = $(`&lt;div id=&quot;html_cdb54391da981da7ab2bde4a1024d27c&quot; style=&quot;width: 100.0%; height: 100.0%;&quot;&gt;2506 700016791&lt;/div&gt;`)[0];\n                popup_b7922f7065b8e73ec782592801a4eeb0.setContent(html_cdb54391da981da7ab2bde4a1024d27c);\n            \n        \n\n        marker_c013e7420f87aaa2f8cf7ee3b2b856c7.bindPopup(popup_b7922f7065b8e73ec782592801a4eeb0)\n        ;\n\n        \n    \n    \n            var marker_7c4672612b7cd6305ebc4e46899415fe = L.marker(\n                [-23.536318, -46.651201],\n                {}\n            ).addTo(map_5f60b933b6259cc8fcfb4d58ba0a483a);\n        \n    \n        var popup_244b660fcf16a0b1c7456b88a7da6ed8 = L.popup({&quot;maxWidth&quot;: &quot;100%&quot;});\n\n        \n            \n                var html_0105acb797a6258796f5d952a1dd12a7 = $(`&lt;div id=&quot;html_0105acb797a6258796f5d952a1dd12a7&quot; style=&quot;width: 100.0%; height: 100.0%;&quot;&gt;2506 700016866&lt;/div&gt;`)[0];\n                popup_244b660fcf16a0b1c7456b88a7da6ed8.setContent(html_0105acb797a6258796f5d952a1dd12a7);\n            \n        \n\n        marker_7c4672612b7cd6305ebc4e46899415fe.bindPopup(popup_244b660fcf16a0b1c7456b88a7da6ed8)\n        ;\n\n        \n    \n    \n            var marker_8eeb45707aa0bb3f3b7aaefcebb1da4e = L.marker(\n                [-23.527608, -46.671511],\n                {}\n            ).addTo(map_5f60b933b6259cc8fcfb4d58ba0a483a);\n        \n    \n        var popup_eee01723e865885624f696abc54f16ab = L.popup({&quot;maxWidth&quot;: &quot;100%&quot;});\n\n        \n            \n                var html_2635c6d68fdcd3cfb29e16af60f94167 = $(`&lt;div id=&quot;html_2635c6d68fdcd3cfb29e16af60f94167&quot; style=&quot;width: 100.0%; height: 100.0%;&quot;&gt;35274 614432&lt;/div&gt;`)[0];\n                popup_eee01723e865885624f696abc54f16ab.setContent(html_2635c6d68fdcd3cfb29e16af60f94167);\n            \n        \n\n        marker_8eeb45707aa0bb3f3b7aaefcebb1da4e.bindPopup(popup_eee01723e865885624f696abc54f16ab)\n        ;\n\n        \n    \n    \n            var marker_7a6665bfdd514a962860a0d59b16fa52 = L.marker(\n                [-23.534377, -46.654322],\n                {}\n            ).addTo(map_5f60b933b6259cc8fcfb4d58ba0a483a);\n        \n    \n        var popup_278e8961db9d1f42fedb00bcb44a8d63 = L.popup({&quot;maxWidth&quot;: &quot;100%&quot;});\n\n        \n            \n                var html_6eff4ca63b10454c3b8d4416ab3a3415 = $(`&lt;div id=&quot;html_6eff4ca63b10454c3b8d4416ab3a3415&quot; style=&quot;width: 100.0%; height: 100.0%;&quot;&gt;35274 7014416&lt;/div&gt;`)[0];\n                popup_278e8961db9d1f42fedb00bcb44a8d63.setContent(html_6eff4ca63b10454c3b8d4416ab3a3415);\n            \n        \n\n        marker_7a6665bfdd514a962860a0d59b16fa52.bindPopup(popup_278e8961db9d1f42fedb00bcb44a8d63)\n        ;\n\n        \n    \n    \n            var marker_19367203dfa402eb526fcf82777bd247 = L.marker(\n                [-23.525262, -46.682254],\n                {}\n            ).addTo(map_5f60b933b6259cc8fcfb4d58ba0a483a);\n        \n    \n        var popup_1edd6a44f44aebde77a579d3deed5971 = L.popup({&quot;maxWidth&quot;: &quot;100%&quot;});\n\n        \n            \n                var html_5f2f23ca1306c8d1e391058f92fd65b9 = $(`&lt;div id=&quot;html_5f2f23ca1306c8d1e391058f92fd65b9&quot; style=&quot;width: 100.0%; height: 100.0%;&quot;&gt;35274 60014604&lt;/div&gt;`)[0];\n                popup_1edd6a44f44aebde77a579d3deed5971.setContent(html_5f2f23ca1306c8d1e391058f92fd65b9);\n            \n        \n\n        marker_19367203dfa402eb526fcf82777bd247.bindPopup(popup_1edd6a44f44aebde77a579d3deed5971)\n        ;\n\n        \n    \n    \n            var marker_9b264fb2b22474f11a96b99676d315d5 = L.marker(\n                [-23.525653, -46.679493],\n                {}\n            ).addTo(map_5f60b933b6259cc8fcfb4d58ba0a483a);\n        \n    \n        var popup_93061d6297b3ddaa0fb031a09643c5d6 = L.popup({&quot;maxWidth&quot;: &quot;100%&quot;});\n\n        \n            \n                var html_52723479d9bbc7bb16ba73ef10d457ac = $(`&lt;div id=&quot;html_52723479d9bbc7bb16ba73ef10d457ac&quot; style=&quot;width: 100.0%; height: 100.0%;&quot;&gt;35274 60016783&lt;/div&gt;`)[0];\n                popup_93061d6297b3ddaa0fb031a09643c5d6.setContent(html_52723479d9bbc7bb16ba73ef10d457ac);\n            \n        \n\n        marker_9b264fb2b22474f11a96b99676d315d5.bindPopup(popup_93061d6297b3ddaa0fb031a09643c5d6)\n        ;\n\n        \n    \n    \n            var marker_f397205169426b4af058823223188897 = L.marker(\n                [-23.52622, -46.674187],\n                {}\n            ).addTo(map_5f60b933b6259cc8fcfb4d58ba0a483a);\n        \n    \n        var popup_d5024d7738ad6a86155b68b3c1c3ae0d = L.popup({&quot;maxWidth&quot;: &quot;100%&quot;});\n\n        \n            \n                var html_70bbc0ae3bcad16ae3c0ab2de92b675d = $(`&lt;div id=&quot;html_70bbc0ae3bcad16ae3c0ab2de92b675d&quot; style=&quot;width: 100.0%; height: 100.0%;&quot;&gt;35274 60016785&lt;/div&gt;`)[0];\n                popup_d5024d7738ad6a86155b68b3c1c3ae0d.setContent(html_70bbc0ae3bcad16ae3c0ab2de92b675d);\n            \n        \n\n        marker_f397205169426b4af058823223188897.bindPopup(popup_d5024d7738ad6a86155b68b3c1c3ae0d)\n        ;\n\n        \n    \n    \n            var marker_5b3b76fd280985d2dafa7a1aa0fe1b02 = L.marker(\n                [-23.529636, -46.667777],\n                {}\n            ).addTo(map_5f60b933b6259cc8fcfb4d58ba0a483a);\n        \n    \n        var popup_f7dcfc1e797b4192145761dab1d97b68 = L.popup({&quot;maxWidth&quot;: &quot;100%&quot;});\n\n        \n            \n                var html_3067e2af548706c117cfb58c31849d0e = $(`&lt;div id=&quot;html_3067e2af548706c117cfb58c31849d0e&quot; style=&quot;width: 100.0%; height: 100.0%;&quot;&gt;35274 60016789&lt;/div&gt;`)[0];\n                popup_f7dcfc1e797b4192145761dab1d97b68.setContent(html_3067e2af548706c117cfb58c31849d0e);\n            \n        \n\n        marker_5b3b76fd280985d2dafa7a1aa0fe1b02.bindPopup(popup_f7dcfc1e797b4192145761dab1d97b68)\n        ;\n\n        \n    \n    \n            var marker_aff5d7f967decdef935a563f3f941604 = L.marker(\n                [-23.522875, -46.688219],\n                {}\n            ).addTo(map_5f60b933b6259cc8fcfb4d58ba0a483a);\n        \n    \n        var popup_9b5079af375a3ba8665be58baac8644f = L.popup({&quot;maxWidth&quot;: &quot;100%&quot;});\n\n        \n            \n                var html_d8dd98d5b3875163a8a2214a1e0eaed3 = $(`&lt;div id=&quot;html_d8dd98d5b3875163a8a2214a1e0eaed3&quot; style=&quot;width: 100.0%; height: 100.0%;&quot;&gt;35274 480014608&lt;/div&gt;`)[0];\n                popup_9b5079af375a3ba8665be58baac8644f.setContent(html_d8dd98d5b3875163a8a2214a1e0eaed3);\n            \n        \n\n        marker_aff5d7f967decdef935a563f3f941604.bindPopup(popup_9b5079af375a3ba8665be58baac8644f)\n        ;\n\n        \n    \n    \n            var marker_b6d6c29310de1f0c7065ca02c08ee006 = L.marker(\n                [-23.522627, -46.692121],\n                {}\n            ).addTo(map_5f60b933b6259cc8fcfb4d58ba0a483a);\n        \n    \n        var popup_5c3818ad6e76d47710c1aa745e9decb6 = L.popup({&quot;maxWidth&quot;: &quot;100%&quot;});\n\n        \n            \n                var html_216ac76adaabef448a910a78b8dca85b = $(`&lt;div id=&quot;html_216ac76adaabef448a910a78b8dca85b&quot; style=&quot;width: 100.0%; height: 100.0%;&quot;&gt;35274 480014609&lt;/div&gt;`)[0];\n                popup_5c3818ad6e76d47710c1aa745e9decb6.setContent(html_216ac76adaabef448a910a78b8dca85b);\n            \n        \n\n        marker_b6d6c29310de1f0c7065ca02c08ee006.bindPopup(popup_5c3818ad6e76d47710c1aa745e9decb6)\n        ;\n\n        \n    \n    \n            var marker_3686605dec6730ac02e77a10b3e1b437 = L.marker(\n                [-23.522339, -46.696246],\n                {}\n            ).addTo(map_5f60b933b6259cc8fcfb4d58ba0a483a);\n        \n    \n        var popup_61adf6355c5465001139707066874dd4 = L.popup({&quot;maxWidth&quot;: &quot;100%&quot;});\n\n        \n            \n                var html_db50b823537daa6554841d091653dd03 = $(`&lt;div id=&quot;html_db50b823537daa6554841d091653dd03&quot; style=&quot;width: 100.0%; height: 100.0%;&quot;&gt;35274 480014610&lt;/div&gt;`)[0];\n                popup_61adf6355c5465001139707066874dd4.setContent(html_db50b823537daa6554841d091653dd03);\n            \n        \n\n        marker_3686605dec6730ac02e77a10b3e1b437.bindPopup(popup_61adf6355c5465001139707066874dd4)\n        ;\n\n        \n    \n    \n            var marker_a258a1d26772f860ae79fc4137d65eab = L.marker(\n                [-23.532629, -46.657465],\n                {}\n            ).addTo(map_5f60b933b6259cc8fcfb4d58ba0a483a);\n        \n    \n        var popup_754aa1431211903a0b71d97aafe5d576 = L.popup({&quot;maxWidth&quot;: &quot;100%&quot;});\n\n        \n            \n                var html_b831546450d16f856ade2a974e1a0774 = $(`&lt;div id=&quot;html_b831546450d16f856ade2a974e1a0774&quot; style=&quot;width: 100.0%; height: 100.0%;&quot;&gt;35274 700006085&lt;/div&gt;`)[0];\n                popup_754aa1431211903a0b71d97aafe5d576.setContent(html_b831546450d16f856ade2a974e1a0774);\n            \n        \n\n        marker_a258a1d26772f860ae79fc4137d65eab.bindPopup(popup_754aa1431211903a0b71d97aafe5d576)\n        ;\n\n        \n    \n    \n            var marker_9490c023104c1e7864eae0fea77d46fe = L.marker(\n                [-23.538357, -46.64733],\n                {}\n            ).addTo(map_5f60b933b6259cc8fcfb4d58ba0a483a);\n        \n    \n        var popup_23563aa087b25fc61f11b64b69a872cd = L.popup({&quot;maxWidth&quot;: &quot;100%&quot;});\n\n        \n            \n                var html_74c8486c3c3fd4af5f0acda5876a63b3 = $(`&lt;div id=&quot;html_74c8486c3c3fd4af5f0acda5876a63b3&quot; style=&quot;width: 100.0%; height: 100.0%;&quot;&gt;35274 700016624&lt;/div&gt;`)[0];\n                popup_23563aa087b25fc61f11b64b69a872cd.setContent(html_74c8486c3c3fd4af5f0acda5876a63b3);\n            \n        \n\n        marker_9490c023104c1e7864eae0fea77d46fe.bindPopup(popup_23563aa087b25fc61f11b64b69a872cd)\n        ;\n\n        \n    \n    \n            var marker_38a55099454418c478ceeafa7e2d67b4 = L.marker(\n                [-23.531864, -46.660859],\n                {}\n            ).addTo(map_5f60b933b6259cc8fcfb4d58ba0a483a);\n        \n    \n        var popup_945255b13046a438b50bf8186bc116d2 = L.popup({&quot;maxWidth&quot;: &quot;100%&quot;});\n\n        \n            \n                var html_b1252e8fd62711f5a20ee45d3d0a77db = $(`&lt;div id=&quot;html_b1252e8fd62711f5a20ee45d3d0a77db&quot; style=&quot;width: 100.0%; height: 100.0%;&quot;&gt;35274 700016792&lt;/div&gt;`)[0];\n                popup_945255b13046a438b50bf8186bc116d2.setContent(html_b1252e8fd62711f5a20ee45d3d0a77db);\n            \n        \n\n        marker_38a55099454418c478ceeafa7e2d67b4.bindPopup(popup_945255b13046a438b50bf8186bc116d2)\n        ;\n\n        \n    \n    \n            var marker_f35f47b02e6ddcaccaa41efc5a68d108 = L.marker(\n                [-23.536498, -46.650579],\n                {}\n            ).addTo(map_5f60b933b6259cc8fcfb4d58ba0a483a);\n        \n    \n        var popup_8dbfbfaebbd18a167571355787f756b3 = L.popup({&quot;maxWidth&quot;: &quot;100%&quot;});\n\n        \n            \n                var html_8c2d738423d3709b61514a1eabdb4ec5 = $(`&lt;div id=&quot;html_8c2d738423d3709b61514a1eabdb4ec5&quot; style=&quot;width: 100.0%; height: 100.0%;&quot;&gt;35274 700016865&lt;/div&gt;`)[0];\n                popup_8dbfbfaebbd18a167571355787f756b3.setContent(html_8c2d738423d3709b61514a1eabdb4ec5);\n            \n        \n\n        marker_f35f47b02e6ddcaccaa41efc5a68d108.bindPopup(popup_8dbfbfaebbd18a167571355787f756b3)\n        ;\n\n        \n    \n    \n            var marker_dc8e5500cd0099fd9daa028deb0d2edf = L.marker(\n                [-23.534564, -46.654302],\n                {}\n            ).addTo(map_5f60b933b6259cc8fcfb4d58ba0a483a);\n        \n    \n        var popup_22c4df516c9823564341ee995b946e4c = L.popup({&quot;maxWidth&quot;: &quot;100%&quot;});\n\n        \n            \n                var html_3842352af3e8d7b0213bdaf0b1d91f9c = $(`&lt;div id=&quot;html_3842352af3e8d7b0213bdaf0b1d91f9c&quot; style=&quot;width: 100.0%; height: 100.0%;&quot;&gt;1273 7014417&lt;/div&gt;`)[0];\n                popup_22c4df516c9823564341ee995b946e4c.setContent(html_3842352af3e8d7b0213bdaf0b1d91f9c);\n            \n        \n\n        marker_dc8e5500cd0099fd9daa028deb0d2edf.bindPopup(popup_22c4df516c9823564341ee995b946e4c)\n        ;\n\n        \n    \n    \n            var marker_9f905a67c705473579f8bff93fc6ee7e = L.marker(\n                [-23.525799, -46.679251],\n                {}\n            ).addTo(map_5f60b933b6259cc8fcfb4d58ba0a483a);\n        \n    \n        var popup_7f7c01c88231370b8db9a8591ca7963a = L.popup({&quot;maxWidth&quot;: &quot;100%&quot;});\n\n        \n            \n                var html_6cba025bccf4c2b52a4e55bb2d0fbe08 = $(`&lt;div id=&quot;html_6cba025bccf4c2b52a4e55bb2d0fbe08&quot; style=&quot;width: 100.0%; height: 100.0%;&quot;&gt;1273 60016784&lt;/div&gt;`)[0];\n                popup_7f7c01c88231370b8db9a8591ca7963a.setContent(html_6cba025bccf4c2b52a4e55bb2d0fbe08);\n            \n        \n\n        marker_9f905a67c705473579f8bff93fc6ee7e.bindPopup(popup_7f7c01c88231370b8db9a8591ca7963a)\n        ;\n\n        \n    \n    \n            var marker_86d66e8977d4548e076ecea6848fddaf = L.marker(\n                [-23.526523, -46.673588],\n                {}\n            ).addTo(map_5f60b933b6259cc8fcfb4d58ba0a483a);\n        \n    \n        var popup_e7bb3f2443a35799bded9a12c15639a2 = L.popup({&quot;maxWidth&quot;: &quot;100%&quot;});\n\n        \n            \n                var html_1e85f7c9dd63221d8a235a6747ea5b72 = $(`&lt;div id=&quot;html_1e85f7c9dd63221d8a235a6747ea5b72&quot; style=&quot;width: 100.0%; height: 100.0%;&quot;&gt;1273 60016786&lt;/div&gt;`)[0];\n                popup_e7bb3f2443a35799bded9a12c15639a2.setContent(html_1e85f7c9dd63221d8a235a6747ea5b72);\n            \n        \n\n        marker_86d66e8977d4548e076ecea6848fddaf.bindPopup(popup_e7bb3f2443a35799bded9a12c15639a2)\n        ;\n\n        \n    \n    \n            var marker_20a68067003d69df555101622ca87805 = L.marker(\n                [-23.528131, -46.670652],\n                {}\n            ).addTo(map_5f60b933b6259cc8fcfb4d58ba0a483a);\n        \n    \n        var popup_fc12fa7c331944b745a6ac8209ecc2ac = L.popup({&quot;maxWidth&quot;: &quot;100%&quot;});\n\n        \n            \n                var html_ecd14fbe519677e99a006e849f1b5631 = $(`&lt;div id=&quot;html_ecd14fbe519677e99a006e849f1b5631&quot; style=&quot;width: 100.0%; height: 100.0%;&quot;&gt;1273 60016788&lt;/div&gt;`)[0];\n                popup_fc12fa7c331944b745a6ac8209ecc2ac.setContent(html_ecd14fbe519677e99a006e849f1b5631);\n            \n        \n\n        marker_20a68067003d69df555101622ca87805.bindPopup(popup_fc12fa7c331944b745a6ac8209ecc2ac)\n        ;\n\n        \n    \n    \n            var marker_4ccceab3cc763cc572103377331bae6f = L.marker(\n                [-23.53021, -46.6669],\n                {}\n            ).addTo(map_5f60b933b6259cc8fcfb4d58ba0a483a);\n        \n    \n        var popup_35ea2f2dbf707c95f63213788ccdf2e3 = L.popup({&quot;maxWidth&quot;: &quot;100%&quot;});\n\n        \n            \n                var html_b67de4bd401c100d5a400f729ae1e622 = $(`&lt;div id=&quot;html_b67de4bd401c100d5a400f729ae1e622&quot; style=&quot;width: 100.0%; height: 100.0%;&quot;&gt;1273 60016790&lt;/div&gt;`)[0];\n                popup_35ea2f2dbf707c95f63213788ccdf2e3.setContent(html_b67de4bd401c100d5a400f729ae1e622);\n            \n        \n\n        marker_4ccceab3cc763cc572103377331bae6f.bindPopup(popup_35ea2f2dbf707c95f63213788ccdf2e3)\n        ;\n\n        \n    \n    \n            var marker_46bd12c41bcf0d2e3201ed3111c2c4a6 = L.marker(\n                [-23.52494, -46.698995],\n                {}\n            ).addTo(map_5f60b933b6259cc8fcfb4d58ba0a483a);\n        \n    \n        var popup_44b67c1379d568e159a62e5f78044fe0 = L.popup({&quot;maxWidth&quot;: &quot;100%&quot;});\n\n        \n            \n                var html_6d6da91789f1bc3dc165cc7d2ee5d982 = $(`&lt;div id=&quot;html_6d6da91789f1bc3dc165cc7d2ee5d982&quot; style=&quot;width: 100.0%; height: 100.0%;&quot;&gt;1273 480014612&lt;/div&gt;`)[0];\n                popup_44b67c1379d568e159a62e5f78044fe0.setContent(html_6d6da91789f1bc3dc165cc7d2ee5d982);\n            \n        \n\n        marker_46bd12c41bcf0d2e3201ed3111c2c4a6.bindPopup(popup_44b67c1379d568e159a62e5f78044fe0)\n        ;\n\n        \n    \n    \n            var marker_8c284dcf5f93fbdb4faef974d7225d74 = L.marker(\n                [-23.524994, -46.695297],\n                {}\n            ).addTo(map_5f60b933b6259cc8fcfb4d58ba0a483a);\n        \n    \n        var popup_d9de50842ca0dcd47ec6509386312f4d = L.popup({&quot;maxWidth&quot;: &quot;100%&quot;});\n\n        \n            \n                var html_2eea56fe073c221c2028439dce482857 = $(`&lt;div id=&quot;html_2eea56fe073c221c2028439dce482857&quot; style=&quot;width: 100.0%; height: 100.0%;&quot;&gt;1273 480014613&lt;/div&gt;`)[0];\n                popup_d9de50842ca0dcd47ec6509386312f4d.setContent(html_2eea56fe073c221c2028439dce482857);\n            \n        \n\n        marker_8c284dcf5f93fbdb4faef974d7225d74.bindPopup(popup_d9de50842ca0dcd47ec6509386312f4d)\n        ;\n\n        \n    \n    \n            var marker_628d8d11dc1838ad46a13a59321b47f3 = L.marker(\n                [-23.525029, -46.690074],\n                {}\n            ).addTo(map_5f60b933b6259cc8fcfb4d58ba0a483a);\n        \n    \n        var popup_21053682346d8bc70fda0577e346a9e4 = L.popup({&quot;maxWidth&quot;: &quot;100%&quot;});\n\n        \n            \n                var html_191f2f1bbcf19dd1dc2ef3277e462cd6 = $(`&lt;div id=&quot;html_191f2f1bbcf19dd1dc2ef3277e462cd6&quot; style=&quot;width: 100.0%; height: 100.0%;&quot;&gt;1273 480014614&lt;/div&gt;`)[0];\n                popup_21053682346d8bc70fda0577e346a9e4.setContent(html_191f2f1bbcf19dd1dc2ef3277e462cd6);\n            \n        \n\n        marker_628d8d11dc1838ad46a13a59321b47f3.bindPopup(popup_21053682346d8bc70fda0577e346a9e4)\n        ;\n\n        \n    \n    \n            var marker_2d60d470be87f2d0d01520922c2175fb = L.marker(\n                [-23.523409, -46.700503],\n                {}\n            ).addTo(map_5f60b933b6259cc8fcfb4d58ba0a483a);\n        \n    \n        var popup_2bb0e60012e44cf45d05f542e5ef4022 = L.popup({&quot;maxWidth&quot;: &quot;100%&quot;});\n\n        \n            \n                var html_3d3e59a556e814a7d5ca91ebb14c162c = $(`&lt;div id=&quot;html_3d3e59a556e814a7d5ca91ebb14c162c&quot; style=&quot;width: 100.0%; height: 100.0%;&quot;&gt;1273 480014961&lt;/div&gt;`)[0];\n                popup_2bb0e60012e44cf45d05f542e5ef4022.setContent(html_3d3e59a556e814a7d5ca91ebb14c162c);\n            \n        \n\n        marker_2d60d470be87f2d0d01520922c2175fb.bindPopup(popup_2bb0e60012e44cf45d05f542e5ef4022)\n        ;\n\n        \n    \n    \n            var marker_0b9e7531e4a1af866ff72e972966a319 = L.marker(\n                [-23.52517, -46.683408],\n                {}\n            ).addTo(map_5f60b933b6259cc8fcfb4d58ba0a483a);\n        \n    \n        var popup_4851a3ca9dec3b86c8c2d63d9f4393d2 = L.popup({&quot;maxWidth&quot;: &quot;100%&quot;});\n\n        \n            \n                var html_6c8dfe393a03d5a0539c4978dee8d2c8 = $(`&lt;div id=&quot;html_6c8dfe393a03d5a0539c4978dee8d2c8&quot; style=&quot;width: 100.0%; height: 100.0%;&quot;&gt;1273 610014603&lt;/div&gt;`)[0];\n                popup_4851a3ca9dec3b86c8c2d63d9f4393d2.setContent(html_6c8dfe393a03d5a0539c4978dee8d2c8);\n            \n        \n\n        marker_0b9e7531e4a1af866ff72e972966a319.bindPopup(popup_4851a3ca9dec3b86c8c2d63d9f4393d2)\n        ;\n\n        \n    \n    \n            var marker_d99050f967c06090c25cc6733726f8f3 = L.marker(\n                [-23.540545, -46.643624],\n                {}\n            ).addTo(map_5f60b933b6259cc8fcfb4d58ba0a483a);\n        \n    \n        var popup_7eff80d44a87a56a25397e3c259e57a8 = L.popup({&quot;maxWidth&quot;: &quot;100%&quot;});\n\n        \n            \n                var html_12c62e2f67d8d88020b201220351f674 = $(`&lt;div id=&quot;html_12c62e2f67d8d88020b201220351f674&quot; style=&quot;width: 100.0%; height: 100.0%;&quot;&gt;1273 670010530&lt;/div&gt;`)[0];\n                popup_7eff80d44a87a56a25397e3c259e57a8.setContent(html_12c62e2f67d8d88020b201220351f674);\n            \n        \n\n        marker_d99050f967c06090c25cc6733726f8f3.bindPopup(popup_7eff80d44a87a56a25397e3c259e57a8)\n        ;\n\n        \n    \n    \n            var marker_18d8838b9eea328d3f0ec0997ade76d3 = L.marker(\n                [-23.532847, -46.657404],\n                {}\n            ).addTo(map_5f60b933b6259cc8fcfb4d58ba0a483a);\n        \n    \n        var popup_a8ad1b4185a66c84d6034daee984c351 = L.popup({&quot;maxWidth&quot;: &quot;100%&quot;});\n\n        \n            \n                var html_f754c62223796d7c24b7b3fbfaa3cb86 = $(`&lt;div id=&quot;html_f754c62223796d7c24b7b3fbfaa3cb86&quot; style=&quot;width: 100.0%; height: 100.0%;&quot;&gt;1273 700006086&lt;/div&gt;`)[0];\n                popup_a8ad1b4185a66c84d6034daee984c351.setContent(html_f754c62223796d7c24b7b3fbfaa3cb86);\n            \n        \n\n        marker_18d8838b9eea328d3f0ec0997ade76d3.bindPopup(popup_a8ad1b4185a66c84d6034daee984c351)\n        ;\n\n        \n    \n    \n            var marker_53aafd66a1f7df22afa1c79d86754230 = L.marker(\n                [-23.538708, -46.646888],\n                {}\n            ).addTo(map_5f60b933b6259cc8fcfb4d58ba0a483a);\n        \n    \n        var popup_fa76a481ae2eb8c4bef58b956c394678 = L.popup({&quot;maxWidth&quot;: &quot;100%&quot;});\n\n        \n            \n                var html_d61e3304cbd75137555e0ff10f6cf0f5 = $(`&lt;div id=&quot;html_d61e3304cbd75137555e0ff10f6cf0f5&quot; style=&quot;width: 100.0%; height: 100.0%;&quot;&gt;1273 700016623&lt;/div&gt;`)[0];\n                popup_fa76a481ae2eb8c4bef58b956c394678.setContent(html_d61e3304cbd75137555e0ff10f6cf0f5);\n            \n        \n\n        marker_53aafd66a1f7df22afa1c79d86754230.bindPopup(popup_fa76a481ae2eb8c4bef58b956c394678)\n        ;\n\n        \n    \n    \n            var marker_a7e33e074e0bed2bb9584e9710ca9f44 = L.marker(\n                [-23.532068, -46.660957],\n                {}\n            ).addTo(map_5f60b933b6259cc8fcfb4d58ba0a483a);\n        \n    \n        var popup_25fb5da255f205543457b40a0d9d41eb = L.popup({&quot;maxWidth&quot;: &quot;100%&quot;});\n\n        \n            \n                var html_d0d56407783e700e895a505e1b0cfea7 = $(`&lt;div id=&quot;html_d0d56407783e700e895a505e1b0cfea7&quot; style=&quot;width: 100.0%; height: 100.0%;&quot;&gt;1273 700016791&lt;/div&gt;`)[0];\n                popup_25fb5da255f205543457b40a0d9d41eb.setContent(html_d0d56407783e700e895a505e1b0cfea7);\n            \n        \n\n        marker_a7e33e074e0bed2bb9584e9710ca9f44.bindPopup(popup_25fb5da255f205543457b40a0d9d41eb)\n        ;\n\n        \n    \n    \n            var marker_9a61d6607b598410462f2e2a59be5cbb = L.marker(\n                [-23.536318, -46.651201],\n                {}\n            ).addTo(map_5f60b933b6259cc8fcfb4d58ba0a483a);\n        \n    \n        var popup_18f2841c86fe52eed9ddd6972bbfbdd8 = L.popup({&quot;maxWidth&quot;: &quot;100%&quot;});\n\n        \n            \n                var html_c48c8ba3ace4b566677cc3bbb1d78ae6 = $(`&lt;div id=&quot;html_c48c8ba3ace4b566677cc3bbb1d78ae6&quot; style=&quot;width: 100.0%; height: 100.0%;&quot;&gt;1273 700016866&lt;/div&gt;`)[0];\n                popup_18f2841c86fe52eed9ddd6972bbfbdd8.setContent(html_c48c8ba3ace4b566677cc3bbb1d78ae6);\n            \n        \n\n        marker_9a61d6607b598410462f2e2a59be5cbb.bindPopup(popup_18f2841c86fe52eed9ddd6972bbfbdd8)\n        ;\n\n        \n    \n    \n            var marker_c807b0ba3e78f043f18ad339fab3080b = L.marker(\n                [-23.527608, -46.671511],\n                {}\n            ).addTo(map_5f60b933b6259cc8fcfb4d58ba0a483a);\n        \n    \n        var popup_132364f01835087e83b938f23a2fe98c = L.popup({&quot;maxWidth&quot;: &quot;100%&quot;});\n\n        \n            \n                var html_beada0d27b6dfebc93a598673f6e2887 = $(`&lt;div id=&quot;html_beada0d27b6dfebc93a598673f6e2887&quot; style=&quot;width: 100.0%; height: 100.0%;&quot;&gt;34041 614432&lt;/div&gt;`)[0];\n                popup_132364f01835087e83b938f23a2fe98c.setContent(html_beada0d27b6dfebc93a598673f6e2887);\n            \n        \n\n        marker_c807b0ba3e78f043f18ad339fab3080b.bindPopup(popup_132364f01835087e83b938f23a2fe98c)\n        ;\n\n        \n    \n    \n            var marker_8f99b6205f1b6b2b08430f96e4801051 = L.marker(\n                [-23.534377, -46.654322],\n                {}\n            ).addTo(map_5f60b933b6259cc8fcfb4d58ba0a483a);\n        \n    \n        var popup_4ca84a675895e855d2d536a3902ccb8a = L.popup({&quot;maxWidth&quot;: &quot;100%&quot;});\n\n        \n            \n                var html_13a9e9f75daeda185976753498705b32 = $(`&lt;div id=&quot;html_13a9e9f75daeda185976753498705b32&quot; style=&quot;width: 100.0%; height: 100.0%;&quot;&gt;34041 7014416&lt;/div&gt;`)[0];\n                popup_4ca84a675895e855d2d536a3902ccb8a.setContent(html_13a9e9f75daeda185976753498705b32);\n            \n        \n\n        marker_8f99b6205f1b6b2b08430f96e4801051.bindPopup(popup_4ca84a675895e855d2d536a3902ccb8a)\n        ;\n\n        \n    \n    \n            var marker_a8b8c1a044e0b5b362e9ed2aeb22b785 = L.marker(\n                [-23.525262, -46.682254],\n                {}\n            ).addTo(map_5f60b933b6259cc8fcfb4d58ba0a483a);\n        \n    \n        var popup_6129af59b4bd697087d4759e8de0657a = L.popup({&quot;maxWidth&quot;: &quot;100%&quot;});\n\n        \n            \n                var html_586dcacb9e58c9e1279883c6dae3c5ef = $(`&lt;div id=&quot;html_586dcacb9e58c9e1279883c6dae3c5ef&quot; style=&quot;width: 100.0%; height: 100.0%;&quot;&gt;34041 60014604&lt;/div&gt;`)[0];\n                popup_6129af59b4bd697087d4759e8de0657a.setContent(html_586dcacb9e58c9e1279883c6dae3c5ef);\n            \n        \n\n        marker_a8b8c1a044e0b5b362e9ed2aeb22b785.bindPopup(popup_6129af59b4bd697087d4759e8de0657a)\n        ;\n\n        \n    \n    \n            var marker_8bd34193ba77a2a942840409cbc730ad = L.marker(\n                [-23.525653, -46.679493],\n                {}\n            ).addTo(map_5f60b933b6259cc8fcfb4d58ba0a483a);\n        \n    \n        var popup_94a149e6baa083cd1cc6f42eda590828 = L.popup({&quot;maxWidth&quot;: &quot;100%&quot;});\n\n        \n            \n                var html_f7061c49ac04feacf2c7f9af8b0ffd67 = $(`&lt;div id=&quot;html_f7061c49ac04feacf2c7f9af8b0ffd67&quot; style=&quot;width: 100.0%; height: 100.0%;&quot;&gt;34041 60016783&lt;/div&gt;`)[0];\n                popup_94a149e6baa083cd1cc6f42eda590828.setContent(html_f7061c49ac04feacf2c7f9af8b0ffd67);\n            \n        \n\n        marker_8bd34193ba77a2a942840409cbc730ad.bindPopup(popup_94a149e6baa083cd1cc6f42eda590828)\n        ;\n\n        \n    \n    \n            var marker_c0f36ed7da4f18536acc87a0899aeb2d = L.marker(\n                [-23.52622, -46.674187],\n                {}\n            ).addTo(map_5f60b933b6259cc8fcfb4d58ba0a483a);\n        \n    \n        var popup_dba4214ac65d9822fec88baaed7be3bf = L.popup({&quot;maxWidth&quot;: &quot;100%&quot;});\n\n        \n            \n                var html_707f4d2f4e8af009df911c0c38b4c795 = $(`&lt;div id=&quot;html_707f4d2f4e8af009df911c0c38b4c795&quot; style=&quot;width: 100.0%; height: 100.0%;&quot;&gt;34041 60016785&lt;/div&gt;`)[0];\n                popup_dba4214ac65d9822fec88baaed7be3bf.setContent(html_707f4d2f4e8af009df911c0c38b4c795);\n            \n        \n\n        marker_c0f36ed7da4f18536acc87a0899aeb2d.bindPopup(popup_dba4214ac65d9822fec88baaed7be3bf)\n        ;\n\n        \n    \n    \n            var marker_8940c0087f5ffed8a54feb0b070a214a = L.marker(\n                [-23.529636, -46.667777],\n                {}\n            ).addTo(map_5f60b933b6259cc8fcfb4d58ba0a483a);\n        \n    \n        var popup_fe317fa4379297f184814f492147c7fa = L.popup({&quot;maxWidth&quot;: &quot;100%&quot;});\n\n        \n            \n                var html_5351a01424d9f23576203d992eb04554 = $(`&lt;div id=&quot;html_5351a01424d9f23576203d992eb04554&quot; style=&quot;width: 100.0%; height: 100.0%;&quot;&gt;34041 60016789&lt;/div&gt;`)[0];\n                popup_fe317fa4379297f184814f492147c7fa.setContent(html_5351a01424d9f23576203d992eb04554);\n            \n        \n\n        marker_8940c0087f5ffed8a54feb0b070a214a.bindPopup(popup_fe317fa4379297f184814f492147c7fa)\n        ;\n\n        \n    \n    \n            var marker_a37b2bbd7714704da631a301c795c139 = L.marker(\n                [-23.522875, -46.688219],\n                {}\n            ).addTo(map_5f60b933b6259cc8fcfb4d58ba0a483a);\n        \n    \n        var popup_7d15ad33e456fc8dd513ef389ecb8a69 = L.popup({&quot;maxWidth&quot;: &quot;100%&quot;});\n\n        \n            \n                var html_f32c61d9af26f7a174b91bd9e4e50601 = $(`&lt;div id=&quot;html_f32c61d9af26f7a174b91bd9e4e50601&quot; style=&quot;width: 100.0%; height: 100.0%;&quot;&gt;34041 480014608&lt;/div&gt;`)[0];\n                popup_7d15ad33e456fc8dd513ef389ecb8a69.setContent(html_f32c61d9af26f7a174b91bd9e4e50601);\n            \n        \n\n        marker_a37b2bbd7714704da631a301c795c139.bindPopup(popup_7d15ad33e456fc8dd513ef389ecb8a69)\n        ;\n\n        \n    \n    \n            var marker_de789dd62798059831ac2fce605aed52 = L.marker(\n                [-23.522627, -46.692121],\n                {}\n            ).addTo(map_5f60b933b6259cc8fcfb4d58ba0a483a);\n        \n    \n        var popup_cfe4faacc043a6e27a90a5254853757f = L.popup({&quot;maxWidth&quot;: &quot;100%&quot;});\n\n        \n            \n                var html_d079d0e79e1a56c5442ad459cadb5e3d = $(`&lt;div id=&quot;html_d079d0e79e1a56c5442ad459cadb5e3d&quot; style=&quot;width: 100.0%; height: 100.0%;&quot;&gt;34041 480014609&lt;/div&gt;`)[0];\n                popup_cfe4faacc043a6e27a90a5254853757f.setContent(html_d079d0e79e1a56c5442ad459cadb5e3d);\n            \n        \n\n        marker_de789dd62798059831ac2fce605aed52.bindPopup(popup_cfe4faacc043a6e27a90a5254853757f)\n        ;\n\n        \n    \n    \n            var marker_907e2d2fdaf57bac77b372323d63fdd9 = L.marker(\n                [-23.522339, -46.696246],\n                {}\n            ).addTo(map_5f60b933b6259cc8fcfb4d58ba0a483a);\n        \n    \n        var popup_14bf325af6a188cb4ac98d6390910cda = L.popup({&quot;maxWidth&quot;: &quot;100%&quot;});\n\n        \n            \n                var html_f83358516f28469aee7b834c5f4d01af = $(`&lt;div id=&quot;html_f83358516f28469aee7b834c5f4d01af&quot; style=&quot;width: 100.0%; height: 100.0%;&quot;&gt;34041 480014610&lt;/div&gt;`)[0];\n                popup_14bf325af6a188cb4ac98d6390910cda.setContent(html_f83358516f28469aee7b834c5f4d01af);\n            \n        \n\n        marker_907e2d2fdaf57bac77b372323d63fdd9.bindPopup(popup_14bf325af6a188cb4ac98d6390910cda)\n        ;\n\n        \n    \n    \n            var marker_564b76cf7a2bd5be488847ad994c06e6 = L.marker(\n                [-23.532629, -46.657465],\n                {}\n            ).addTo(map_5f60b933b6259cc8fcfb4d58ba0a483a);\n        \n    \n        var popup_f563c9aca8daa1ab9f90bd09b37c998b = L.popup({&quot;maxWidth&quot;: &quot;100%&quot;});\n\n        \n            \n                var html_4bc1dbf49d094a911389c44b7d8e0e95 = $(`&lt;div id=&quot;html_4bc1dbf49d094a911389c44b7d8e0e95&quot; style=&quot;width: 100.0%; height: 100.0%;&quot;&gt;34041 700006085&lt;/div&gt;`)[0];\n                popup_f563c9aca8daa1ab9f90bd09b37c998b.setContent(html_4bc1dbf49d094a911389c44b7d8e0e95);\n            \n        \n\n        marker_564b76cf7a2bd5be488847ad994c06e6.bindPopup(popup_f563c9aca8daa1ab9f90bd09b37c998b)\n        ;\n\n        \n    \n    \n            var marker_f613fb52ddfdf64765ae3fd95534aab5 = L.marker(\n                [-23.538357, -46.64733],\n                {}\n            ).addTo(map_5f60b933b6259cc8fcfb4d58ba0a483a);\n        \n    \n        var popup_1abf1eb470fa3838c3e00fbf1b4c528d = L.popup({&quot;maxWidth&quot;: &quot;100%&quot;});\n\n        \n            \n                var html_8d0b986f426c10c9474035d6dd6394d4 = $(`&lt;div id=&quot;html_8d0b986f426c10c9474035d6dd6394d4&quot; style=&quot;width: 100.0%; height: 100.0%;&quot;&gt;34041 700016624&lt;/div&gt;`)[0];\n                popup_1abf1eb470fa3838c3e00fbf1b4c528d.setContent(html_8d0b986f426c10c9474035d6dd6394d4);\n            \n        \n\n        marker_f613fb52ddfdf64765ae3fd95534aab5.bindPopup(popup_1abf1eb470fa3838c3e00fbf1b4c528d)\n        ;\n\n        \n    \n    \n            var marker_f9c223a89d3fb6b7447c6a41c47a69d6 = L.marker(\n                [-23.531864, -46.660859],\n                {}\n            ).addTo(map_5f60b933b6259cc8fcfb4d58ba0a483a);\n        \n    \n        var popup_efbd0736143f582575602c1e8f3cac93 = L.popup({&quot;maxWidth&quot;: &quot;100%&quot;});\n\n        \n            \n                var html_5516c4aaa87a5454de86f12c318139e2 = $(`&lt;div id=&quot;html_5516c4aaa87a5454de86f12c318139e2&quot; style=&quot;width: 100.0%; height: 100.0%;&quot;&gt;34041 700016792&lt;/div&gt;`)[0];\n                popup_efbd0736143f582575602c1e8f3cac93.setContent(html_5516c4aaa87a5454de86f12c318139e2);\n            \n        \n\n        marker_f9c223a89d3fb6b7447c6a41c47a69d6.bindPopup(popup_efbd0736143f582575602c1e8f3cac93)\n        ;\n\n        \n    \n    \n            var marker_4eb82bf24fb461f11ed2a29970468172 = L.marker(\n                [-23.536498, -46.650579],\n                {}\n            ).addTo(map_5f60b933b6259cc8fcfb4d58ba0a483a);\n        \n    \n        var popup_84ac7525ae411d8414968549cfeb5eeb = L.popup({&quot;maxWidth&quot;: &quot;100%&quot;});\n\n        \n            \n                var html_b0751f34f1cd17ba6fa06dd557145a85 = $(`&lt;div id=&quot;html_b0751f34f1cd17ba6fa06dd557145a85&quot; style=&quot;width: 100.0%; height: 100.0%;&quot;&gt;34041 700016865&lt;/div&gt;`)[0];\n                popup_84ac7525ae411d8414968549cfeb5eeb.setContent(html_b0751f34f1cd17ba6fa06dd557145a85);\n            \n        \n\n        marker_4eb82bf24fb461f11ed2a29970468172.bindPopup(popup_84ac7525ae411d8414968549cfeb5eeb)\n        ;\n\n        \n    \n&lt;/script&gt;\n&lt;/html&gt;\" style=\"position:absolute;width:100%;height:100%;left:0;top:0;border:none !important;\" allowfullscreen webkitallowfullscreen mozallowfullscreen></iframe></div></div>"
     },
     "execution_count": 28,
     "metadata": {},
     "output_type": "execute_result"
    }
   ],
   "source": [
    "mapa_parada = folium.Map(location=[parada.posicao.latitude, parada.posicao.longitude], zoom_start=12)\n",
    "\n",
    "for linha in linhas:\n",
    "    lista_paradas = ss.buscar_paradas(linha.codigo_identificador)\n",
    "    for parada in lista_paradas:\n",
    "        folium.Marker(location=[parada.posicao.latitude, parada.posicao.longitude], popup=str(linha.codigo_identificador) + ' ' + str(parada.codigo_parada)).add_to(mapa_parada)\n",
    "\n",
    "mapa_parada"
   ],
   "metadata": {
    "collapsed": false
   }
  },
  {
   "cell_type": "code",
   "execution_count": 27,
   "outputs": [
    {
     "data": {
      "text/plain": "<folium.folium.Map at 0x1640d3aa5f8>",
      "text/html": "<div style=\"width:100%;\"><div style=\"position:relative;width:100%;height:0;padding-bottom:60%;\"><span style=\"color:#565656\">Make this Notebook Trusted to load map: File -> Trust Notebook</span><iframe srcdoc=\"&lt;!DOCTYPE html&gt;\n&lt;html&gt;\n&lt;head&gt;\n    \n    &lt;meta http-equiv=&quot;content-type&quot; content=&quot;text/html; charset=UTF-8&quot; /&gt;\n    \n        &lt;script&gt;\n            L_NO_TOUCH = false;\n            L_DISABLE_3D = false;\n        &lt;/script&gt;\n    \n    &lt;style&gt;html, body {width: 100%;height: 100%;margin: 0;padding: 0;}&lt;/style&gt;\n    &lt;style&gt;#map {position:absolute;top:0;bottom:0;right:0;left:0;}&lt;/style&gt;\n    &lt;script src=&quot;https://cdn.jsdelivr.net/npm/leaflet@1.9.3/dist/leaflet.js&quot;&gt;&lt;/script&gt;\n    &lt;script src=&quot;https://code.jquery.com/jquery-1.12.4.min.js&quot;&gt;&lt;/script&gt;\n    &lt;script src=&quot;https://cdn.jsdelivr.net/npm/bootstrap@5.2.2/dist/js/bootstrap.bundle.min.js&quot;&gt;&lt;/script&gt;\n    &lt;script src=&quot;https://cdnjs.cloudflare.com/ajax/libs/Leaflet.awesome-markers/2.0.2/leaflet.awesome-markers.js&quot;&gt;&lt;/script&gt;\n    &lt;link rel=&quot;stylesheet&quot; href=&quot;https://cdn.jsdelivr.net/npm/leaflet@1.9.3/dist/leaflet.css&quot;/&gt;\n    &lt;link rel=&quot;stylesheet&quot; href=&quot;https://cdn.jsdelivr.net/npm/bootstrap@5.2.2/dist/css/bootstrap.min.css&quot;/&gt;\n    &lt;link rel=&quot;stylesheet&quot; href=&quot;https://netdna.bootstrapcdn.com/bootstrap/3.0.0/css/bootstrap.min.css&quot;/&gt;\n    &lt;link rel=&quot;stylesheet&quot; href=&quot;https://cdn.jsdelivr.net/npm/@fortawesome/fontawesome-free@6.2.0/css/all.min.css&quot;/&gt;\n    &lt;link rel=&quot;stylesheet&quot; href=&quot;https://cdnjs.cloudflare.com/ajax/libs/Leaflet.awesome-markers/2.0.2/leaflet.awesome-markers.css&quot;/&gt;\n    &lt;link rel=&quot;stylesheet&quot; href=&quot;https://cdn.jsdelivr.net/gh/python-visualization/folium/folium/templates/leaflet.awesome.rotate.min.css&quot;/&gt;\n    \n            &lt;meta name=&quot;viewport&quot; content=&quot;width=device-width,\n                initial-scale=1.0, maximum-scale=1.0, user-scalable=no&quot; /&gt;\n            &lt;style&gt;\n                #map_a5525596c1eb6b270415513f866241f7 {\n                    position: relative;\n                    width: 100.0%;\n                    height: 100.0%;\n                    left: 0.0%;\n                    top: 0.0%;\n                }\n                .leaflet-container { font-size: 1rem; }\n            &lt;/style&gt;\n        \n&lt;/head&gt;\n&lt;body&gt;\n    \n    \n            &lt;div class=&quot;folium-map&quot; id=&quot;map_a5525596c1eb6b270415513f866241f7&quot; &gt;&lt;/div&gt;\n        \n&lt;/body&gt;\n&lt;script&gt;\n    \n    \n            var map_a5525596c1eb6b270415513f866241f7 = L.map(\n                &quot;map_a5525596c1eb6b270415513f866241f7&quot;,\n                {\n                    center: [-15.7942, -47.8822],\n                    crs: L.CRS.EPSG3857,\n                    zoom: 10,\n                    zoomControl: true,\n                    preferCanvas: false,\n                }\n            );\n\n            \n\n        \n    \n            var tile_layer_1d54d64bcea07afdaf08cf485b3324b5 = L.tileLayer(\n                &quot;https://{s}.tile.openstreetmap.org/{z}/{x}/{y}.png&quot;,\n                {&quot;attribution&quot;: &quot;Data by \\u0026copy; \\u003ca target=\\&quot;_blank\\&quot; href=\\&quot;http://openstreetmap.org\\&quot;\\u003eOpenStreetMap\\u003c/a\\u003e, under \\u003ca target=\\&quot;_blank\\&quot; href=\\&quot;http://www.openstreetmap.org/copyright\\&quot;\\u003eODbL\\u003c/a\\u003e.&quot;, &quot;detectRetina&quot;: false, &quot;maxNativeZoom&quot;: 18, &quot;maxZoom&quot;: 18, &quot;minZoom&quot;: 0, &quot;noWrap&quot;: false, &quot;opacity&quot;: 1, &quot;subdomains&quot;: &quot;abc&quot;, &quot;tms&quot;: false}\n            ).addTo(map_a5525596c1eb6b270415513f866241f7);\n        \n    \n            var marker_65c7539c1e01c2e3df40274826b04eb1 = L.marker(\n                [-15.7942, -47.8822],\n                {}\n            ).addTo(map_a5525596c1eb6b270415513f866241f7);\n        \n    \n            var icon_7d53a61bb8b37d10cd4191193f3cfe8f = L.AwesomeMarkers.icon(\n                {&quot;extraClasses&quot;: &quot;fa-rotate-0&quot;, &quot;icon&quot;: &quot;info-sign&quot;, &quot;iconColor&quot;: &quot;white&quot;, &quot;markerColor&quot;: &quot;blue&quot;, &quot;prefix&quot;: &quot;glyphicon&quot;}\n            );\n            marker_65c7539c1e01c2e3df40274826b04eb1.setIcon(icon_7d53a61bb8b37d10cd4191193f3cfe8f);\n        \n    \n        var popup_51d3bba90d44776d1e44f024846c69a4 = L.popup({&quot;maxWidth&quot;: &quot;100%&quot;});\n\n        \n            \n                var html_2b0750899a123bc93ce2890ad66a2803 = $(`&lt;div id=&quot;html_2b0750899a123bc93ce2890ad66a2803&quot; style=&quot;width: 100.0%; height: 100.0%;&quot;&gt;Marcador tipo 1&lt;/div&gt;`)[0];\n                popup_51d3bba90d44776d1e44f024846c69a4.setContent(html_2b0750899a123bc93ce2890ad66a2803);\n            \n        \n\n        marker_65c7539c1e01c2e3df40274826b04eb1.bindPopup(popup_51d3bba90d44776d1e44f024846c69a4)\n        ;\n\n        \n    \n    \n            var marker_490a7039f2b3c42caa6c7de8810a8647 = L.marker(\n                [-15.7742, -47.8822],\n                {}\n            ).addTo(map_a5525596c1eb6b270415513f866241f7);\n        \n    \n            var icon_c66c5d5041e84889c576953745408cdd = L.AwesomeMarkers.icon(\n                {&quot;extraClasses&quot;: &quot;fa-rotate-0&quot;, &quot;icon&quot;: &quot;ok-sign&quot;, &quot;iconColor&quot;: &quot;white&quot;, &quot;markerColor&quot;: &quot;red&quot;, &quot;prefix&quot;: &quot;glyphicon&quot;}\n            );\n            marker_490a7039f2b3c42caa6c7de8810a8647.setIcon(icon_c66c5d5041e84889c576953745408cdd);\n        \n    \n        var popup_5fe266ba2ca187e42f6d95cccf442775 = L.popup({&quot;maxWidth&quot;: &quot;100%&quot;});\n\n        \n            \n                var html_9e449daf338f48b0903a574ab78e3c25 = $(`&lt;div id=&quot;html_9e449daf338f48b0903a574ab78e3c25&quot; style=&quot;width: 100.0%; height: 100.0%;&quot;&gt;Marcador tipo 2&lt;/div&gt;`)[0];\n                popup_5fe266ba2ca187e42f6d95cccf442775.setContent(html_9e449daf338f48b0903a574ab78e3c25);\n            \n        \n\n        marker_490a7039f2b3c42caa6c7de8810a8647.bindPopup(popup_5fe266ba2ca187e42f6d95cccf442775)\n        ;\n\n        \n    \n&lt;/script&gt;\n&lt;/html&gt;\" style=\"position:absolute;width:100%;height:100%;left:0;top:0;border:none !important;\" allowfullscreen webkitallowfullscreen mozallowfullscreen></iframe></div></div>"
     },
     "execution_count": 27,
     "metadata": {},
     "output_type": "execute_result"
    }
   ],
   "source": [
    "import folium\n",
    "\n",
    "# Criando o mapa\n",
    "mapa = folium.Map(location=[-15.7942, -47.8822], zoom_start=10)\n",
    "\n",
    "# Definindo os ícones dos marcadores\n",
    "icone1 = folium.Icon(color='blue', icon='info-sign')\n",
    "icone2 = folium.Icon(color='red', icon='ok-sign')\n",
    "\n",
    "# Adicionando os marcadores ao mapa\n",
    "folium.Marker([-15.7942, -47.8822], popup='Marcador tipo 1', icon=icone1).add_to(mapa)\n",
    "folium.Marker([-15.7742, -47.8822], popup='Marcador tipo 2', icon=icone2).add_to(mapa)\n",
    "\n",
    "# Renderizando o mapa\n",
    "mapa\n"
   ],
   "metadata": {
    "collapsed": false
   }
  }
 ],
 "metadata": {
  "kernelspec": {
   "display_name": "Python 3",
   "language": "python",
   "name": "python3"
  },
  "language_info": {
   "codemirror_mode": {
    "name": "ipython",
    "version": 2
   },
   "file_extension": ".py",
   "mimetype": "text/x-python",
   "name": "python",
   "nbconvert_exporter": "python",
   "pygments_lexer": "ipython2",
   "version": "2.7.6"
  }
 },
 "nbformat": 4,
 "nbformat_minor": 0
}
