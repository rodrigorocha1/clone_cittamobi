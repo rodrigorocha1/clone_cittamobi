{
 "cells": [
  {
   "cell_type": "code",
   "execution_count": 19,
   "metadata": {
    "collapsed": true
   },
   "outputs": [],
   "source": [
    "import pandas as pd\n",
    "from services.service_sptrans import ServiceSPTRANS\n",
    "import folium\n",
    "from time import sleep\n",
    "from entidades.posicao import Posicao\n",
    "from entidades.trajeto import Trajeto\n",
    "import webbrowser"
   ]
  },
  {
   "cell_type": "markdown",
   "source": [],
   "metadata": {
    "collapsed": false
   }
  },
  {
   "cell_type": "code",
   "execution_count": 3,
   "outputs": [
    {
     "name": "stdout",
     "output_type": "stream",
     "text": [
      "cheguei na class trajeto\n",
      "cheguei na class trajeto\n"
     ]
    },
    {
     "data": {
      "text/plain": "[<entidades.linhas.Linha at 0x26242198588>,\n <entidades.linhas.Linha at 0x26242198cf8>]"
     },
     "execution_count": 3,
     "metadata": {},
     "output_type": "execute_result"
    }
   ],
   "source": [
    "ss = ServiceSPTRANS()\n",
    "linhas = ss.consultar_linha('8000-10')\n",
    "linhas"
   ],
   "metadata": {
    "collapsed": false
   }
  },
  {
   "cell_type": "code",
   "execution_count": 21,
   "outputs": [
    {
     "ename": "AttributeError",
     "evalue": "'Linha' object has no attribute 'criar_mapa'",
     "output_type": "error",
     "traceback": [
      "\u001B[1;31m---------------------------------------------------------------------------\u001B[0m",
      "\u001B[1;31mAttributeError\u001B[0m                            Traceback (most recent call last)",
      "\u001B[1;32m~\\AppData\\Local\\Temp\\ipykernel_2952\\2130687391.py\u001B[0m in \u001B[0;36m<module>\u001B[1;34m\u001B[0m\n\u001B[0;32m      1\u001B[0m \u001B[0mlinhas\u001B[0m\u001B[1;33m[\u001B[0m\u001B[1;36m0\u001B[0m\u001B[1;33m]\u001B[0m\u001B[1;33m.\u001B[0m\u001B[0mtrajeto\u001B[0m\u001B[1;33m.\u001B[0m\u001B[0mposicoes\u001B[0m\u001B[1;33m\u001B[0m\u001B[0m\n\u001B[0;32m      2\u001B[0m \u001B[1;32mfor\u001B[0m \u001B[0mlinha\u001B[0m \u001B[1;32min\u001B[0m \u001B[0mlinhas\u001B[0m\u001B[1;33m:\u001B[0m\u001B[1;33m\u001B[0m\u001B[0m\n\u001B[1;32m----> 3\u001B[1;33m     \u001B[0mlinha\u001B[0m\u001B[1;33m.\u001B[0m\u001B[0mcriar_mapa\u001B[0m\u001B[1;33m(\u001B[0m\u001B[0mlinha\u001B[0m\u001B[1;33m)\u001B[0m\u001B[1;33m\u001B[0m\u001B[0m\n\u001B[0m",
      "\u001B[1;31mAttributeError\u001B[0m: 'Linha' object has no attribute 'criar_mapa'"
     ]
    }
   ],
   "source": [
    "\n",
    "for linha in linhas:\n",
    "    linha.criar_mapa(linha)"
   ],
   "metadata": {
    "collapsed": false
   }
  },
  {
   "cell_type": "markdown",
   "source": [],
   "metadata": {
    "collapsed": false
   }
  },
  {
   "cell_type": "markdown",
   "source": [
    "# Mapa dos pontos de ônibus"
   ],
   "metadata": {
    "collapsed": false
   }
  },
  {
   "cell_type": "code",
   "execution_count": 16,
   "outputs": [],
   "source": [
    "from datetime import datetime\n",
    "\n",
    "\n",
    "def criar_mapa(linhas):\n",
    "    ss = ServiceSPTRANS()\n",
    "\n",
    "    for linha in linhas:\n",
    "        lista_posicoes_veiculos = ss.buscar_posicoes_veiculos(linha.codigo_identificador)\n",
    "        titulo_html = f\"\"\"<h1>Mapa da linha {linha.terminal_principal, '-', linha.terminal_secundario}\n",
    "        </h1><h1>Horário de Referência: {datetime.now().strftime('%HH:%MM:%SS')} </h1>\"\"\"\n",
    "\n",
    "        mapa_parada = folium.Map(location=[linha.trajeto.posicoes[len(linha.trajeto.posicoes) // 2].latitude,\n",
    "                                           linha.trajeto.posicoes[len(linha.trajeto.posicoes) // 2].longitude\n",
    "                                           ], zoom_start=14)\n",
    "        for i in range(len(linha.trajeto.posicoes) - 1):\n",
    "            ponto_inicial = [linha.trajeto.posicoes[i].latitude, linha.trajeto.posicoes[i].longitude]\n",
    "            ponto_final = [linha.trajeto.posicoes[i + 1].latitude, linha.trajeto.posicoes[i + 1].longitude]\n",
    "            folium.PolyLine(locations=[ponto_inicial, ponto_final], color=f'#{linha.trajeto.cor}').add_to(\n",
    "                mapa_parada)\n",
    "\n",
    "        for posicao_veiculo in lista_posicoes_veiculos:\n",
    "            folium.Marker([posicao_veiculo.posicao.latitude, posicao_veiculo.posicao.longitude],\n",
    "                          popup=posicao_veiculo.prefixo,\n",
    "                          icon=folium.Icon(icon='bus', prefix='fa', color='blue')).add_to(mapa_parada)\n",
    "\n",
    "    paradas = ss.buscar_paradas(linha.codigo_identificador)\n",
    "    for parada in paradas:\n",
    "        folium.Marker([parada.posicao.latitude, parada.posicao.longitude], popup=parada.nome_parada,\n",
    "                      icon=folium.Icon(icon='bus', prefix='fa', color='red')).add_to(\n",
    "            mapa_parada)\n",
    "    mapa_parada.get_root().html.add_child(folium.Element(titulo_html))\n",
    "\n",
    "\n",
    "    mapa_parada.save('parada6.html')\n"
   ],
   "metadata": {
    "collapsed": false
   }
  },
  {
   "cell_type": "code",
   "execution_count": null,
   "outputs": [],
   "source": [],
   "metadata": {
    "collapsed": false
   }
  },
  {
   "cell_type": "code",
   "execution_count": 17,
   "outputs": [],
   "source": [
    "criar_mapa(linhas)"
   ],
   "metadata": {
    "collapsed": false
   }
  },
  {
   "cell_type": "markdown",
   "source": [
    "# Teste para obter a cor do trajeto da linha e as posições"
   ],
   "metadata": {
    "collapsed": false
   }
  },
  {
   "cell_type": "code",
   "execution_count": 29,
   "outputs": [
    {
     "data": {
      "text/plain": "        route_id  shape_id  shape_pt_lat  shape_pt_lon  shape_dist_traveled\n0        1012-10     72757    -23.432174    -46.787095             0.000000\n1        1012-10     72757    -23.432116    -46.787105             6.504682\n2        1012-10     72757    -23.431590    -46.787191            65.418427\n3        1012-10     72757    -23.431476    -46.787206            78.136925\n4        1012-10     72757    -23.431438    -46.787210            82.364815\n...          ...       ...           ...           ...                  ...\n1125639  N843-11     62557    -23.654782    -46.761548         24200.133000\n1125640  N843-11     62557    -23.654284    -46.762232         24289.080000\n1125641  N843-11     62557    -23.654177    -46.762379         24308.193000\n1125642  N843-11     62557    -23.654077    -46.762517         24326.105000\n1125643  N843-11     62557    -23.653972    -46.762661         24344.842000\n\n[1125644 rows x 5 columns]",
      "text/html": "<div>\n<style scoped>\n    .dataframe tbody tr th:only-of-type {\n        vertical-align: middle;\n    }\n\n    .dataframe tbody tr th {\n        vertical-align: top;\n    }\n\n    .dataframe thead th {\n        text-align: right;\n    }\n</style>\n<table border=\"1\" class=\"dataframe\">\n  <thead>\n    <tr style=\"text-align: right;\">\n      <th></th>\n      <th>route_id</th>\n      <th>shape_id</th>\n      <th>shape_pt_lat</th>\n      <th>shape_pt_lon</th>\n      <th>shape_dist_traveled</th>\n    </tr>\n  </thead>\n  <tbody>\n    <tr>\n      <th>0</th>\n      <td>1012-10</td>\n      <td>72757</td>\n      <td>-23.432174</td>\n      <td>-46.787095</td>\n      <td>0.000000</td>\n    </tr>\n    <tr>\n      <th>1</th>\n      <td>1012-10</td>\n      <td>72757</td>\n      <td>-23.432116</td>\n      <td>-46.787105</td>\n      <td>6.504682</td>\n    </tr>\n    <tr>\n      <th>2</th>\n      <td>1012-10</td>\n      <td>72757</td>\n      <td>-23.431590</td>\n      <td>-46.787191</td>\n      <td>65.418427</td>\n    </tr>\n    <tr>\n      <th>3</th>\n      <td>1012-10</td>\n      <td>72757</td>\n      <td>-23.431476</td>\n      <td>-46.787206</td>\n      <td>78.136925</td>\n    </tr>\n    <tr>\n      <th>4</th>\n      <td>1012-10</td>\n      <td>72757</td>\n      <td>-23.431438</td>\n      <td>-46.787210</td>\n      <td>82.364815</td>\n    </tr>\n    <tr>\n      <th>...</th>\n      <td>...</td>\n      <td>...</td>\n      <td>...</td>\n      <td>...</td>\n      <td>...</td>\n    </tr>\n    <tr>\n      <th>1125639</th>\n      <td>N843-11</td>\n      <td>62557</td>\n      <td>-23.654782</td>\n      <td>-46.761548</td>\n      <td>24200.133000</td>\n    </tr>\n    <tr>\n      <th>1125640</th>\n      <td>N843-11</td>\n      <td>62557</td>\n      <td>-23.654284</td>\n      <td>-46.762232</td>\n      <td>24289.080000</td>\n    </tr>\n    <tr>\n      <th>1125641</th>\n      <td>N843-11</td>\n      <td>62557</td>\n      <td>-23.654177</td>\n      <td>-46.762379</td>\n      <td>24308.193000</td>\n    </tr>\n    <tr>\n      <th>1125642</th>\n      <td>N843-11</td>\n      <td>62557</td>\n      <td>-23.654077</td>\n      <td>-46.762517</td>\n      <td>24326.105000</td>\n    </tr>\n    <tr>\n      <th>1125643</th>\n      <td>N843-11</td>\n      <td>62557</td>\n      <td>-23.653972</td>\n      <td>-46.762661</td>\n      <td>24344.842000</td>\n    </tr>\n  </tbody>\n</table>\n<p>1125644 rows × 5 columns</p>\n</div>"
     },
     "execution_count": 29,
     "metadata": {},
     "output_type": "execute_result"
    }
   ],
   "source": [
    "base_trips = pd.read_csv('../data/raw/trips.txt', usecols=['route_id', 'shape_id'])\n",
    "base_shapes = pd.read_csv('../data/raw/shapes.txt',\n",
    "                          usecols=['shape_id', 'shape_pt_lat', 'shape_pt_lon', 'shape_dist_traveled'])\n",
    "base_cor_trajeto = pd.read_csv('../data/raw/routes.txt', usecols=['route_id', 'route_color'])\n",
    "\n",
    "base_completa = base_trips.merge(base_shapes, on='shape_id', how='inner')"
   ],
   "metadata": {
    "collapsed": false
   }
  },
  {
   "cell_type": "code",
   "execution_count": 11,
   "outputs": [],
   "source": [
    "lista_teste = [i for i in range(1, 6)]"
   ],
   "metadata": {
    "collapsed": false
   }
  },
  {
   "cell_type": "code",
   "execution_count": 12,
   "outputs": [
    {
     "data": {
      "text/plain": "[1, 2, 3, 4, 5]"
     },
     "execution_count": 12,
     "metadata": {},
     "output_type": "execute_result"
    }
   ],
   "source": [
    "lista_teste"
   ],
   "metadata": {
    "collapsed": false
   }
  }
 ],
 "metadata": {
  "kernelspec": {
   "display_name": "Python 3",
   "language": "python",
   "name": "python3"
  },
  "language_info": {
   "codemirror_mode": {
    "name": "ipython",
    "version": 2
   },
   "file_extension": ".py",
   "mimetype": "text/x-python",
   "name": "python",
   "nbconvert_exporter": "python",
   "pygments_lexer": "ipython2",
   "version": "2.7.6"
  }
 },
 "nbformat": 4,
 "nbformat_minor": 0
}
