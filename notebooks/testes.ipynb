{
 "cells": [
  {
   "cell_type": "code",
   "execution_count": 74,
   "metadata": {
    "collapsed": true
   },
   "outputs": [],
   "source": [
    "import pandas as pd\n",
    "from services.service_sptrans import ServiceSPTRANS\n",
    "import folium\n",
    "from time import sleep\n",
    "from datetime import datetime"
   ]
  },
  {
   "cell_type": "markdown",
   "source": [],
   "metadata": {
    "collapsed": false
   }
  },
  {
   "cell_type": "code",
   "execution_count": 75,
   "outputs": [
    {
     "data": {
      "text/plain": "[<entidades.linhas.Linha at 0x2c012a9fa58>,\n <entidades.linhas.Linha at 0x2c012a9f7f0>]"
     },
     "execution_count": 75,
     "metadata": {},
     "output_type": "execute_result"
    }
   ],
   "source": [
    "ss = ServiceSPTRANS()\n",
    "linhas = ss.consultar_linha('8000-10')\n",
    "linhas"
   ],
   "metadata": {
    "collapsed": false
   }
  },
  {
   "cell_type": "markdown",
   "source": [],
   "metadata": {
    "collapsed": false
   }
  },
  {
   "cell_type": "markdown",
   "source": [
    "# Mapa dos pontos de ônibus"
   ],
   "metadata": {
    "collapsed": false
   }
  },
  {
   "cell_type": "code",
   "execution_count": 93,
   "outputs": [],
   "source": [
    "def atualizar_posicao(linhas):\n",
    "\n",
    "    while True:\n",
    "        mapa_parada = folium.Map(location=[-23.5489, -46.6388], zoom_start=12)\n",
    "\n",
    "        for linha in linhas:\n",
    "            lista_posicoes_veiculos = ss.buscar_posicoes_veiculos(linha.codigo_identificador)\n",
    "            for posicao_veiculo in lista_posicoes_veiculos:\n",
    "                folium.Marker([posicao_veiculo.posicao.latitude, posicao_veiculo.posicao.longitude],\n",
    "                              popup=posicao_veiculo.prefixo).add_to(mapa_parada)\n",
    "        paradas = ss.buscar_paradas(linha.codigo_identificador)\n",
    "\n",
    "        for parada in paradas:\n",
    "            folium.Marker([parada.posicao.latitude, parada.posicao.longitude], popup=parada.nome_parada).add_to(mapa_parada)\n",
    "\n",
    "\n",
    "\n",
    "        mapa_parada.save('parada5.html')\n",
    "        print('Atualizei')\n",
    "        sleep(10)  # espera 30 segundos até a próxima atualização\n"
   ],
   "metadata": {
    "collapsed": false
   }
  },
  {
   "cell_type": "code",
   "execution_count": null,
   "outputs": [
    {
     "name": "stdout",
     "output_type": "stream",
     "text": [
      "Atualizei\n",
      "Atualizei\n",
      "Atualizei\n",
      "Atualizei\n",
      "Atualizei\n",
      "Atualizei\n",
      "Atualizei\n",
      "Atualizei\n",
      "Atualizei\n",
      "Atualizei\n",
      "Atualizei\n",
      "Atualizei\n",
      "Atualizei\n",
      "Atualizei\n",
      "Atualizei\n",
      "Atualizei\n",
      "Atualizei\n",
      "Atualizei\n",
      "Atualizei\n",
      "Atualizei\n",
      "Atualizei\n",
      "Atualizei\n",
      "Atualizei\n",
      "Atualizei\n",
      "Atualizei\n",
      "Atualizei\n",
      "Atualizei\n",
      "Atualizei\n",
      "Atualizei\n",
      "Atualizei\n",
      "Atualizei\n",
      "Atualizei\n",
      "Atualizei\n",
      "Atualizei\n",
      "Atualizei\n",
      "Atualizei\n",
      "Atualizei\n",
      "Atualizei\n"
     ]
    }
   ],
   "source": [
    "atualizar_posicao(linhas)"
   ],
   "metadata": {
    "collapsed": false,
    "pycharm": {
     "is_executing": true
    }
   }
  },
  {
   "cell_type": "code",
   "execution_count": null,
   "outputs": [],
   "source": [
    "def criar_mapa():\n",
    "    mapa = folium.Map(location=[-23.5202965, -46.6999955], zoom_start=12)\n",
    "    return mapa"
   ],
   "metadata": {
    "collapsed": false
   }
  }
 ],
 "metadata": {
  "kernelspec": {
   "display_name": "Python 3",
   "language": "python",
   "name": "python3"
  },
  "language_info": {
   "codemirror_mode": {
    "name": "ipython",
    "version": 2
   },
   "file_extension": ".py",
   "mimetype": "text/x-python",
   "name": "python",
   "nbconvert_exporter": "python",
   "pygments_lexer": "ipython2",
   "version": "2.7.6"
  }
 },
 "nbformat": 4,
 "nbformat_minor": 0
}
